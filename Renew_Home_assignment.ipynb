{
 "cells": [
  {
   "cell_type": "markdown",
   "metadata": {},
   "source": [
    "# Renew Home Data Assignment\n",
    "\n",
    "## Step 1: Import data to Google Cloud bucket and insert into BigQuery database"
   ]
  },
  {
   "cell_type": "code",
   "execution_count": null,
   "metadata": {
    "collapsed": false
   },
   "outputs": [],
   "source": [
    "### Library Imports\n",
    "from google.cloud import bigquery\n",
    "from google.cloud import storage\n",
    "import os\n",
    "import pandas as pd\n",
    "import numpy as np\n",
    "import matplotlib.pyplot as plt\n",
    "\n",
    "\n",
    "# Setting bucket and file variables\n",
    "bucket_name = \"renew-home-sample\"\n",
    "project=\"loyal-burner-462818-m3\"\n",
    "device_participation_filepath = os.environ.get('DEVICE_PARTICIPATION')\n",
    "device_participation_blob_name = \"device_participation.csv.gz\"\n",
    "home_filepath = os.environ.get('HOME')\n",
    "home_blob_name = \"home.csv.gz\"\n",
    "device_filepath = os.environ.get('DEVICE')\n",
    "device_blob_name = \"device.csv.gz\"\n",
    "file_dictionary = {device_participation_filepath:device_participation_blob_name,\n",
    "                   home_filepath:home_blob_name,\n",
    "                   device_filepath:device_blob_name}\n",
    "\n",
    "# Uploading files to Google Cloud storage bucket\n",
    "storage_client = storage.Client(project=project)\n",
    "bucket = storage_client.bucket(bucket_name)\n",
    "\n",
    "for path in file_dictionary:\n",
    "    blob = bucket.blob(file_dictionary[path])\n",
    "    blob.upload_from_filename(path)"
   ]
  },
  {
   "cell_type": "code",
   "execution_count": null,
   "metadata": {},
   "outputs": [
    {
     "name": "stdout",
     "output_type": "stream",
     "text": [
      "Created dataset loyal-burner-462818-m3.VPP\n"
     ]
    }
   ],
   "source": [
    "# Create initial dataset for VPP analysis\n",
    "client = bigquery.Client(project=project)\n",
    "dataset_name = \"VPP\"\n",
    "dataset_id = \"{}.{}\".format(client.project, dataset_name)\n",
    "\n",
    "# Construct a full Dataset object to send to the API.\n",
    "dataset = bigquery.Dataset(dataset_id)\n",
    "\n",
    "dataset.location = \"US\"\n",
    "\n",
    "# Send the dataset to the API for creation, with an explicit timeout.\n",
    "# Raises google.api_core.exceptions.Conflict if the Dataset already\n",
    "# exists within the project.\n",
    "dataset = client.create_dataset(dataset, timeout=30)  # Make an API request.\n",
    "print(\"Created dataset {}.{}\".format(client.project, dataset.dataset_id))"
   ]
  },
  {
   "cell_type": "code",
   "execution_count": null,
   "metadata": {},
   "outputs": [
    {
     "name": "stdout",
     "output_type": "stream",
     "text": [
      "Loaded 177242 rows to loyal-burner-462818-m3.VPP.device_participation\n"
     ]
    }
   ],
   "source": [
    "# Create tables wihtin VPP dataset\n",
    "client = bigquery.Client(project=project)\n",
    "\n",
    "file_list = ['device_participation','home','device']\n",
    "for file in file_list:\n",
    "    table_id = \"{}.{}.{}\".format(client.project,dataset_name,file)\n",
    "\n",
    "    job_config = bigquery.LoadJobConfig(\n",
    "        autodetect=True\n",
    "    )\n",
    "    uri = \"gs://renew-home-sample/{}.csv.gz\".format(file)\n",
    "\n",
    "    load_job = client.load_table_from_uri(\n",
    "        uri, table_id, job_config=job_config\n",
    "    ) \n",
    "\n",
    "    load_job.result() \n",
    "\n",
    "    destination_table = client.get_table(table_id) \n",
    "    print(\"Loaded {} rows to {}\".format(destination_table.num_rows,table_id))\n"
   ]
  },
  {
   "cell_type": "markdown",
   "metadata": {},
   "source": [
    "## Step 2 - SQL queries to summarize datasets"
   ]
  },
  {
   "cell_type": "code",
   "execution_count": 81,
   "metadata": {},
   "outputs": [
    {
     "name": "stdout",
     "output_type": "stream",
     "text": [
      "      f0_\n",
      "0  177242\n"
     ]
    }
   ],
   "source": [
    "# count of unique device events query\n",
    "sql = \"\"\"\n",
    "SELECT count(*) \n",
    "FROM \n",
    "(SELECT distinct device_id, event_id, shift_id FROM `loyal-burner-462818-m3.VPP.device_participation`)\n",
    "\"\"\"\n",
    "\n",
    "full_participation_df = client.query(sql).to_dataframe(create_bqstorage_client=False)\n",
    "\n",
    "print(full_participation_df.head())"
   ]
  },
  {
   "cell_type": "code",
   "execution_count": null,
   "metadata": {},
   "outputs": [
    {
     "name": "stdout",
     "output_type": "stream",
     "text": [
      "      f0_\n",
      "0  112438\n",
      "        f0_\n",
      "0  0.365624\n"
     ]
    }
   ],
   "source": [
    "# count of unique device events query with start/end times\n",
    "sql = \"\"\"\n",
    "SELECT count(*) \n",
    "FROM \n",
    "(SELECT distinct device_id, event_id, shift_id FROM `loyal-burner-462818-m3.VPP.device_participation`\n",
    "WHERE actual_start_time is not null AND actual_end_time is not null)\n",
    "\"\"\"\n",
    "\n",
    "actual_participation_df = client.query(sql).to_dataframe(create_bqstorage_client=False)\n",
    "\n",
    "print(actual_participation_df.head())\n",
    "\n",
    "# rate of event failure\n",
    "print(1-(actual_participation_df/full_participation_df))"
   ]
  },
  {
   "cell_type": "code",
   "execution_count": 40,
   "metadata": {},
   "outputs": [
    {
     "name": "stdout",
     "output_type": "stream",
     "text": [
      "    f0_\n",
      "0  2469\n"
     ]
    }
   ],
   "source": [
    "# count of unique devices query\n",
    "sql = \"\"\"\n",
    "SELECT count(distinct(device_id)) \n",
    "FROM `loyal-burner-462818-m3.VPP.device`\n",
    "\"\"\"\n",
    "\n",
    "df = client.query(sql).to_dataframe(create_bqstorage_client=False)\n",
    "\n",
    "print(df.head())"
   ]
  },
  {
   "cell_type": "code",
   "execution_count": 41,
   "metadata": {},
   "outputs": [
    {
     "name": "stdout",
     "output_type": "stream",
     "text": [
      "                          device_id  f0_\n",
      "0  35e6ed02e77b52c75d511d229489ba05    2\n",
      "1  b961183f4daf8e39d4f5ac0c2033db54    2\n",
      "2  88de206d34258b7dfd387a4e8e6afe86    2\n",
      "3  5098a0c3527eff25d9a64b1e035093f4    2\n"
     ]
    }
   ],
   "source": [
    "# duplicate device query\n",
    "sql = \"\"\"\n",
    "    SELECT device_id, count(device_id) \n",
    "    FROM `loyal-burner-462818-m3.VPP.device` \n",
    "    GROUP BY device_id HAVING count(device_id) > 1 LIMIT 1000\n",
    "\"\"\"\n",
    "\n",
    "df = client.query(sql).to_dataframe(create_bqstorage_client=False)\n",
    "\n",
    "print(df.head())"
   ]
  },
  {
   "cell_type": "code",
   "execution_count": 42,
   "metadata": {},
   "outputs": [
    {
     "name": "stdout",
     "output_type": "stream",
     "text": [
      "    f0_\n",
      "0  1764\n"
     ]
    }
   ],
   "source": [
    "# count of unique homes query\n",
    "sql = \"\"\"\n",
    "SELECT count(distinct(home_id)) \n",
    "FROM `loyal-burner-462818-m3.VPP.home`\n",
    "\"\"\"\n",
    "\n",
    "df = client.query(sql).to_dataframe(create_bqstorage_client=False)\n",
    "\n",
    "print(df.head())"
   ]
  },
  {
   "cell_type": "code",
   "execution_count": 84,
   "metadata": {},
   "outputs": [
    {
     "name": "stdout",
     "output_type": "stream",
     "text": [
      "                         feature     f0_       f1_\n",
      "0  DEVICE_SHIFT_TYPE_TIME_OF_USE    3237  0.028789\n",
      "1    DEVICE_SHIFT_TYPE_EMISSIONS  109201  0.971211\n"
     ]
    }
   ],
   "source": [
    "# feature percentage query\n",
    "sql = \"\"\"\n",
    "SELECT feature, count(feature), count(feature)/sum(count(feature)) OVER() \n",
    "FROM `loyal-burner-462818-m3.VPP.device_participation`\n",
    "WHERE actual_start_time is not null AND actual_end_time is not null\n",
    "GROUP BY feature\n",
    "\"\"\"\n",
    "\n",
    "df = client.query(sql).to_dataframe(create_bqstorage_client=False)\n",
    "\n",
    "print(df.head())"
   ]
  },
  {
   "cell_type": "code",
   "execution_count": 85,
   "metadata": {},
   "outputs": [
    {
     "name": "stdout",
     "output_type": "stream",
     "text": [
      "   opted_out     f0_       f1_\n",
      "0          0  106683  0.948816\n",
      "1          1    5755  0.051184\n"
     ]
    }
   ],
   "source": [
    "# opt out percentage query\n",
    "sql = \"\"\"\n",
    "SELECT opted_out, count(opted_out), count(opted_out)/sum(count(opted_out)) OVER()\n",
    "FROM `loyal-burner-462818-m3.VPP.device_participation`\n",
    "WHERE actual_start_time is not null AND actual_end_time is not null\n",
    "GROUP BY opted_out\n",
    "\"\"\"\n",
    "\n",
    "df = client.query(sql).to_dataframe(create_bqstorage_client=False)\n",
    "\n",
    "print(df.head())"
   ]
  },
  {
   "cell_type": "code",
   "execution_count": 86,
   "metadata": {},
   "outputs": [
    {
     "name": "stdout",
     "output_type": "stream",
     "text": [
      "   start_difference  end_difference\n",
      "0           0.27712       -0.320088\n"
     ]
    }
   ],
   "source": [
    "# start/end time difference query\n",
    "sql = \"\"\"\n",
    "SELECT AVG(TIMESTAMP_DIFF(actual_start_time, planned_start_time, MINUTE)) as start_difference, \n",
    "AVG(TIMESTAMP_DIFF(actual_end_time, planned_end_time, MINUTE)) as end_difference \n",
    "FROM `loyal-burner-462818-m3.VPP.device_participation` WHERE opted_out = 0 and actual_start_time is not null AND actual_end_time is not null\n",
    "\"\"\"\n",
    "\n",
    "df = client.query(sql).to_dataframe(create_bqstorage_client=False)\n",
    "\n",
    "print(df.head())"
   ]
  },
  {
   "cell_type": "code",
   "execution_count": 87,
   "metadata": {},
   "outputs": [
    {
     "name": "stdout",
     "output_type": "stream",
     "text": [
      "   actual_event_length\n",
      "0            52.448422\n"
     ]
    }
   ],
   "source": [
    "# average event length\n",
    "sql = \"\"\"\n",
    "SELECT AVG(TIMESTAMP_DIFF(actual_end_time, actual_start_time, MINUTE)) as actual_event_length\n",
    "FROM `loyal-burner-462818-m3.VPP.device_participation` WHERE opted_out = 0 and actual_start_time is not null AND actual_end_time is not null\n",
    "\"\"\"\n",
    "\n",
    "df = client.query(sql).to_dataframe(create_bqstorage_client=False)\n",
    "\n",
    "print(df.head())"
   ]
  },
  {
   "cell_type": "code",
   "execution_count": 88,
   "metadata": {},
   "outputs": [
    {
     "name": "stdout",
     "output_type": "stream",
     "text": [
      "    month  event_count\n",
      "0  022025        26770\n",
      "1  032025        20643\n",
      "2  042025        29991\n",
      "3  052025        35034\n"
     ]
    }
   ],
   "source": [
    "# events by month query\n",
    "sql = \"\"\"\n",
    "SELECT FORMAT_DATETIME('%m%Y', actual_end_time) AS month, count(FORMAT_DATETIME('%m%Y', actual_end_time)) as event_count\n",
    "FROM `loyal-burner-462818-m3.VPP.device_participation` \n",
    "WHERE actual_start_time is not null AND actual_end_time is not null\n",
    "GROUP BY FORMAT_DATETIME('%m%Y', actual_end_time)\n",
    "\"\"\"\n",
    "\n",
    "monthly_event_df = client.query(sql).to_dataframe(create_bqstorage_client=False)\n",
    "\n",
    "print(monthly_event_df)"
   ]
  },
  {
   "cell_type": "code",
   "execution_count": null,
   "metadata": {},
   "outputs": [
    {
     "data": {
      "image/png": "[encoded data removed]",
      "text/plain": [
       "<Figure size 640x480 with 1 Axes>"
      ]
     },
     "metadata": {},
     "output_type": "display_data"
    }
   ],
   "source": [
    "# plot of events over the past few months\n",
    "plt.bar(monthly_event_df['month'], monthly_event_df['event_count'])\n",
    "plt.show()"
   ]
  },
  {
   "cell_type": "markdown",
   "metadata": {},
   "source": [
    "## Step 3 - Exploratory data analysis in pandas"
   ]
  },
  {
   "cell_type": "code",
   "execution_count": null,
   "metadata": {},
   "outputs": [],
   "source": [
    "# pulling full tables into dataframes\n",
    "\n",
    "sql = \"\"\"\n",
    "SELECT *\n",
    "FROM `loyal-burner-462818-m3.VPP.device`\n",
    "\"\"\"\n",
    "\n",
    "device_df = client.query(sql).to_dataframe(create_bqstorage_client=False)\n",
    "\n",
    "sql = \"\"\"\n",
    "SELECT *\n",
    "FROM `loyal-burner-462818-m3.VPP.home`\n",
    "\"\"\"\n",
    "\n",
    "home_df = client.query(sql).to_dataframe(create_bqstorage_client=False)\n",
    "\n",
    "sql = \"\"\"\n",
    "SELECT *\n",
    "FROM `loyal-burner-462818-m3.VPP.device_participation`\n",
    "\"\"\"\n",
    "\n",
    "device_participation_full_df = client.query(sql).to_dataframe(create_bqstorage_client=False)\n",
    "\n",
    "sql = \"\"\"\n",
    "SELECT *\n",
    "FROM `loyal-burner-462818-m3.VPP.device_participation`\n",
    "WHERE actual_start_time is not null AND actual_end_time is not null\n",
    "\"\"\"\n",
    "\n",
    "device_participation_with_start_end_df = client.query(sql).to_dataframe(create_bqstorage_client=False)"
   ]
  },
  {
   "cell_type": "code",
   "execution_count": 97,
   "metadata": {},
   "outputs": [
    {
     "name": "stdout",
     "output_type": "stream",
     "text": [
      "Index(['device_id', 'event_id', 'shift_id', 'feature', 'planned_start_time',\n",
      "       'planned_end_time', 'actual_start_time', 'actual_end_time', 'opted_out',\n",
      "       'home_id', 'create_date', 'device_type', 'device_model', 'device_state',\n",
      "       'timezone', 'emissions_shift_enabled', 'time_of_use_shift_enabled'],\n",
      "      dtype='object')\n"
     ]
    }
   ],
   "source": [
    "# merge/join device participation to device\n",
    "combined_device_participation_full_df = pd.merge(device_participation_full_df, device_df, left_on='device_id', right_on='device_id')\n",
    "\n",
    "# merge/join device participation to home\n",
    "final_combined_full_df = pd.merge(combined_device_participation_full_df, home_df, left_on='home_id', right_on='home_id')\n",
    "\n",
    "# merge/join device participation to device\n",
    "combined_device_participation_with_start_end_df = pd.merge(device_participation_with_start_end_df, device_df, left_on='device_id', right_on='device_id')\n",
    "\n",
    "# merge/join device participation to home\n",
    "final_combined_with_start_end_df = pd.merge(combined_device_participation_with_start_end_df, home_df, left_on='home_id', right_on='home_id')\n",
    "\n",
    "print(final_combined_with_start_end_df.columns)"
   ]
  },
  {
   "cell_type": "code",
   "execution_count": 98,
   "metadata": {},
   "outputs": [
    {
     "name": "stdout",
     "output_type": "stream",
     "text": [
      "opted_out device_model  opted_in  opted_out  opt_out_rate\n",
      "0                    A     40326       1632      0.038896\n",
      "1                    B     27632       1090      0.037950\n",
      "2                    C     95578       2833      0.028787\n",
      "3                    D      8004        295      0.035546\n"
     ]
    }
   ],
   "source": [
    "# looking at device opt-out by device_type\n",
    "device_opt_out = final_combined_full_df.groupby(['device_model','opted_out']).size().unstack().reset_index()\n",
    "device_opt_out.rename(columns={0:'opted_in',1:'opted_out'}, inplace=True)\n",
    "device_opt_out['opt_out_rate'] = device_opt_out['opted_out'] / (device_opt_out['opted_in'] + device_opt_out['opted_out'])\n",
    "print(device_opt_out)"
   ]
  },
  {
   "cell_type": "code",
   "execution_count": null,
   "metadata": {},
   "outputs": [
    {
     "data": {
      "image/png": "[encoded data removed]",
      "text/plain": [
       "<Figure size 640x480 with 1 Axes>"
      ]
     },
     "metadata": {},
     "output_type": "display_data"
    }
   ],
   "source": [
    "# plot of opt-out rate over the past few months\n",
    "plt.bar(device_opt_out['device_model'], device_opt_out['opt_out_rate'])\n",
    "plt.show()"
   ]
  },
  {
   "cell_type": "code",
   "execution_count": 100,
   "metadata": {},
   "outputs": [
    {
     "name": "stdout",
     "output_type": "stream",
     "text": [
      "opted_out device_model  opted_in  opted_out  opt_out_rate\n",
      "0                    A     30368       1623      0.050733\n",
      "1                    B     18701       1046      0.052970\n",
      "2                    C     52580       2821      0.050920\n",
      "3                    D      5057        294      0.054943\n"
     ]
    }
   ],
   "source": [
    "# looking at device opt-out by device_type with start/end included\n",
    "device_opt_out = final_combined_with_start_end_df.groupby(['device_model','opted_out']).size().unstack().reset_index()\n",
    "device_opt_out.rename(columns={0:'opted_in',1:'opted_out'}, inplace=True)\n",
    "device_opt_out['opt_out_rate'] = device_opt_out['opted_out'] / (device_opt_out['opted_in'] + device_opt_out['opted_out'])\n",
    "print(device_opt_out)"
   ]
  },
  {
   "cell_type": "code",
   "execution_count": null,
   "metadata": {},
   "outputs": [
    {
     "data": {
      "image/png": "[encoded data removed]",
      "text/plain": [
       "<Figure size 640x480 with 1 Axes>"
      ]
     },
     "metadata": {},
     "output_type": "display_data"
    }
   ],
   "source": [
    "# plot of opt-out rate over the past few months\n",
    "plt.bar(device_opt_out['device_model'], device_opt_out['opt_out_rate'])\n",
    "plt.show()"
   ]
  },
  {
   "cell_type": "code",
   "execution_count": 102,
   "metadata": {},
   "outputs": [
    {
     "name": "stdout",
     "output_type": "stream",
     "text": [
      "opted_out device_model  event_month  opted_in  opted_out  opt_out_rate\n",
      "0                    A            2      7340        477      0.061021\n",
      "1                    A            3      5736        369      0.060442\n",
      "2                    A            4      7868        399      0.048264\n",
      "3                    A            5      9424        378      0.038564\n",
      "4                    B            2      4284        316      0.068696\n",
      "5                    B            3      3229        232      0.067033\n",
      "6                    B            4      5066        249      0.046849\n",
      "7                    B            5      6122        249      0.039083\n",
      "8                    C            2     12183        747      0.057773\n",
      "9                    C            3      9587        573      0.056398\n",
      "10                   C            4     14210        728      0.048735\n",
      "11                   C            5     16600        773      0.044494\n",
      "12                   D            2      1333        101      0.070432\n",
      "13                   D            3       877         59      0.063034\n",
      "14                   D            4      1396         67      0.045796\n",
      "15                   D            5      1451         67      0.044137\n"
     ]
    }
   ],
   "source": [
    "# looking at device opt-out by device_type by month\n",
    "final_combined_with_start_end_df['event_month'] = pd.to_datetime(final_combined_with_start_end_df['actual_end_time']).dt.month\n",
    "device_opt_out = final_combined_with_start_end_df.groupby(['device_model','event_month','opted_out']).size().unstack().reset_index()\n",
    "device_opt_out.rename(columns={0:'opted_in',1:'opted_out'}, inplace=True)\n",
    "device_opt_out['opt_out_rate'] = device_opt_out['opted_out'] / (device_opt_out['opted_in'] + device_opt_out['opted_out'])\n",
    "print(device_opt_out)"
   ]
  },
  {
   "cell_type": "code",
   "execution_count": 105,
   "metadata": {},
   "outputs": [
    {
     "name": "stdout",
     "output_type": "stream",
     "text": [
      "emissions_shift_enabled\n",
      "True     0.977891\n",
      "False    0.022109\n",
      "Name: proportion, dtype: Float64\n",
      "time_of_use_shift_enabled\n",
      "False    0.970522\n",
      "True     0.029478\n",
      "Name: proportion, dtype: Float64\n"
     ]
    }
   ],
   "source": [
    "homes_with_emissions_shift = home_df['emissions_shift_enabled'].value_counts(normalize=True)\n",
    "print(homes_with_emissions_shift)\n",
    "\n",
    "homes_with_tou_shift = home_df['time_of_use_shift_enabled'].value_counts(normalize=True)\n",
    "print(homes_with_tou_shift)"
   ]
  },
  {
   "cell_type": "code",
   "execution_count": 110,
   "metadata": {},
   "outputs": [
    {
     "name": "stdout",
     "output_type": "stream",
     "text": [
      "opted_out             timezone  opted_in  opted_out  opt_out_rate\n",
      "0             America/New_York     41693       1966      0.045031\n",
      "1              America/Chicago     30394       1814      0.056321\n",
      "2          America/Los_Angeles     14744       1260      0.078730\n",
      "3               America/Denver      8883        312      0.033931\n",
      "4              America/Detroit      4515        146      0.031324\n",
      "5              America/Phoenix      2621        106      0.038871\n"
     ]
    }
   ],
   "source": [
    "# looking at device opt-out by timezone\n",
    "device_opt_out = final_combined_with_start_end_df.groupby(['timezone','opted_out']).size().unstack().reset_index()\n",
    "device_opt_out.rename(columns={0:'opted_in',1:'opted_out'}, inplace=True)\n",
    "device_opt_out['opt_out_rate'] = device_opt_out['opted_out'] / (device_opt_out['opted_in'] + device_opt_out['opted_out'])\n",
    "device_opt_out_sorted = device_opt_out.sort_values(by='opted_in',ascending=False).reset_index(drop=True)\n",
    "device_opt_out_sorted = device_opt_out_sorted.iloc[0:6]\n",
    "print(device_opt_out_sorted)"
   ]
  },
  {
   "cell_type": "code",
   "execution_count": 115,
   "metadata": {},
   "outputs": [
    {
     "data": {
      "image/png": "[encoded data removed]",
      "text/plain": [
       "<Figure size 640x480 with 1 Axes>"
      ]
     },
     "metadata": {},
     "output_type": "display_data"
    }
   ],
   "source": [
    "# plot of events over the past few months\n",
    "plt.bar(device_opt_out_sorted['timezone'], device_opt_out_sorted['opt_out_rate'])\n",
    "plt.xticks(rotation=30, ha='right')\n",
    "plt.show()"
   ]
  },
  {
   "cell_type": "code",
   "execution_count": 126,
   "metadata": {},
   "outputs": [
    {
     "name": "stdout",
     "output_type": "stream",
     "text": [
      "event_failed\n",
      "0    0.634139\n",
      "1    0.365861\n",
      "Name: proportion, dtype: float64\n",
      "event_failed device_model  event_succeded  event_failed  fail_rate\n",
      "0                       A           31991          9967   0.237547\n",
      "1                       B           19747          8975   0.312478\n",
      "2                       C           55401         43010   0.437045\n",
      "3                       D            5351          2948   0.355224\n"
     ]
    }
   ],
   "source": [
    "# event failed rate by device_model\n",
    "final_combined_full_df['event_failed'] = np.where(~((~final_combined_full_df['actual_start_time'].isna()) & (~final_combined_full_df['actual_end_time'].isna())),1,0)\n",
    "fail_rate = final_combined_full_df['event_failed'].value_counts(normalize=True)\n",
    "print(fail_rate)\n",
    "\n",
    "device_failed = final_combined_full_df.groupby(['device_model','event_failed']).size().unstack().reset_index()\n",
    "device_failed.rename(columns={0:'event_succeded',1:'event_failed'}, inplace=True)\n",
    "device_failed['fail_rate'] = device_failed['event_failed'] / (device_failed['event_succeded'] + device_failed['event_failed'])\n",
    "print(device_failed)"
   ]
  }
 ],
 "metadata": {
  "kernelspec": {
   "display_name": "Python 3",
   "language": "python",
   "name": "python3"
  },
  "language_info": {
   "codemirror_mode": {
    "name": "ipython",
    "version": 3
   },
   "file_extension": ".py",
   "mimetype": "text/x-python",
   "name": "python",
   "nbconvert_exporter": "python",
   "pygments_lexer": "ipython3",
   "version": "3.13.2"
  }
 },
 "nbformat": 4,
 "nbformat_minor": 0
}
