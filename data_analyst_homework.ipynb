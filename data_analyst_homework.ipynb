{
 "cells": [
  {
   "cell_type": "markdown",
   "metadata": {},
   "source": [
    "## Analyzing EIA Electricity Data\n",
    "\n",
    "The U.S. Energy Information Agency has Annual Electric Power Industry data spanning from 1990 to 2016. The data can be found here:\n",
    "\n",
    "https://www.eia.gov/electricity/data/eia861/\n",
    "\n",
    "The Data Analyst should use at least the 2016 dataset to answer the questions. The creativity of how you explore the data, present it, and analyze it will be key. Providing aditional analysis based on your background will be a huge plus.\n",
    "\n",
    "Please provide all the python code used to answer the questions."
   ]
  },
  {
   "cell_type": "markdown",
   "metadata": {},
   "source": [
    "<hr/>\n",
    "## Dynamic Electricity Pricing\n",
    "\n",
    "Some questions may require no data analysis (only research), while others may require both.\n",
    "\n",
    "1) Which U.S. states have deregulated retail electricity markets?\n",
    "\n",
    "2) Which U.S. states have the most power utilities utilizing dynamic pricing?\n",
    "\n",
    "3) Which states have the most enrolled customers in dynamic pricing?"
   ]
  },
  {
   "cell_type": "code",
   "execution_count": 21,
   "metadata": {
    "collapsed": false
   },
   "outputs": [
    {
     "data": {
      "text/plain": [
       "[   States with a Deregulated Electricity Market\n",
       " 0                                    California\n",
       " 1                                   Connecticut\n",
       " 2                                         Maine\n",
       " 3                                      Maryland\n",
       " 4                                 New Hampshire\n",
       " 5                                      Illinois\n",
       " 6                                 Massachusetts\n",
       " 7                                      Michigan\n",
       " 8                                    New Jersey\n",
       " 9                                      New York\n",
       " 10                                         Ohio\n",
       " 11                                 Pennsylvania\n",
       " 12                                 Rhode Island\n",
       " 13                                     Delaware\n",
       " 14                                       Oregon\n",
       " 15                                        Texas,\n",
       "     States with the most utilities utilizing dynamic pricing\n",
       " WI                                                 66       \n",
       " TN                                                 66       \n",
       " CA                                                 30       \n",
       " MN                                                 26       \n",
       " MS                                                 26       \n",
       " IN                                                 24       \n",
       " NC                                                 23       \n",
       " AL                                                 23       \n",
       " CO                                                 21       \n",
       " TX                                                 21       ,\n",
       "        States with the most total customers utilizing dynamic pricing\n",
       " State                                                                \n",
       " CA                                               1859211             \n",
       " MD                                               1750275             \n",
       " AZ                                                883911             \n",
       " OH                                                734887             \n",
       " OK                                                725910             \n",
       " TX                                                291023             \n",
       " DE                                                261694             \n",
       " LA                                                205852             \n",
       " IL                                                191418             \n",
       " NY                                                168044             ]"
      ]
     },
     "execution_count": 21,
     "metadata": {},
     "output_type": "execute_result"
    }
   ],
   "source": [
    "import pandas as pd\n",
    "\n",
    "dynamic = pd.read_csv(r'C:\\Users\\Matt\\Downloads\\Dynamic_Pricing2016.csv', skiprows=range(0,2),  thousands=',')\n",
    "\n",
    "# 1) Which U.S. states have deregulated retail electricity markets?\n",
    "\n",
    "# There does not seem to be an answer in the csv files, so research is needed\n",
    "# There are different answers because it depends on your definition of \"deregulated\" because no state is completely deregulated\n",
    "# These two websites look like a reliable source of information, let's compare the two\n",
    "\n",
    "#extract embedded table for analysis\n",
    "deregulated = pd.read_html(\"https://www.sparkenergy.com/en/energy-regulation-by-state/\", header=0)[0]\n",
    "deregulated2 = pd.read_html(\"https://infocastinc.com/insights/solar/regulated-deregulated-energy-markets/\", header=0)[0]\n",
    "deregulated2.loc[deregulated2['Electric Market'].str.contains('Deregulated')]\n",
    "\n",
    "# Find states that appear on both lists (these are the ones that should definitely be considered deregulated)\n",
    "deregulated_states = pd.merge(deregulated, deregulated2, on=['State'], how='inner')[['State']]\n",
    "deregulated_states.columns = ['States with a Deregulated Electricity Market']\n",
    "deregulated_states\n",
    "\n",
    "# A: Deregulated states are CA, CT, ME, MD, NH, IL, MA, MI, NJ, NY, OH, PA, RI, DE, OR, TX\n",
    "\n",
    "\n",
    "# 2) Which U.S. states have the most power utilities utilizing dynamic pricing?\n",
    "\n",
    "dynamic_states = dynamic.State.value_counts().to_frame().iloc[range(0,10)]\n",
    "dynamic_states.columns = ['States with the most utilities utilizing dynamic pricing']\n",
    "\n",
    "# A frame of the top 10 states with the most power utilities using dynamic pricing\n",
    "dynamic_states\n",
    "\n",
    "# A: Top states are TN, WI, CA, MS, MN, IN, AL, NC, TX, CO\n",
    "\n",
    "\n",
    "# 3) Which states have the most enrolled customers in dynamic pricing?\n",
    "\n",
    "dynamic_customers = dynamic.groupby(['State'])[['Total']].sum()\n",
    "dynamic_customers = dynamic_customers.sort_values(by=['Total'], ascending=False).iloc[range(0,10)]\n",
    "dynamic_customers.columns = ['States with the most total customers utilizing dynamic pricing']\n",
    "\n",
    "# A frame of the top 10 states with the most enrolled customers using dynamic pricing\n",
    "dynamic_customers\n",
    "\n",
    "# A: Top states are CA, MD, AZ, OH, OK, TX, DE, LA, IL, NY\n",
    "\n",
    "# Creating a list to display all frames\n",
    "final = [deregulated_states, dynamic_states, dynamic_customers]\n",
    "final"
   ]
  },
  {
   "cell_type": "markdown",
   "metadata": {},
   "source": [
    "<hr/>\n",
    "## Metering\n",
    "\n",
    "Some questions may require no data analysis (only research), while others may require both.\n",
    "\n",
    "1) What policies are leading to more Net Metering customers in Southern California Edison in CA compared to Consolidated Edison in NY?\n",
    "\n",
    "2) Which utility has the most Net Metering Capacity (MW) by technology?"
   ]
  },
  {
   "cell_type": "code",
   "execution_count": 19,
   "metadata": {
    "collapsed": false
   },
   "outputs": [
    {
     "data": {
      "text/html": [
       "<div>\n",
       "<style>\n",
       "    .dataframe thead tr:only-child th {\n",
       "        text-align: right;\n",
       "    }\n",
       "\n",
       "    .dataframe thead th {\n",
       "        text-align: left;\n",
       "    }\n",
       "\n",
       "    .dataframe tbody tr th {\n",
       "        vertical-align: top;\n",
       "    }\n",
       "</style>\n",
       "<table border=\"1\" class=\"dataframe\">\n",
       "  <thead>\n",
       "    <tr style=\"text-align: right;\">\n",
       "      <th></th>\n",
       "      <th>Utility Name</th>\n",
       "      <th>Technology</th>\n",
       "      <th>Total capacity</th>\n",
       "    </tr>\n",
       "  </thead>\n",
       "  <tbody>\n",
       "    <tr>\n",
       "      <th>0</th>\n",
       "      <td>Pacific Gas &amp; Electric Co</td>\n",
       "      <td>Solar</td>\n",
       "      <td>2359.382</td>\n",
       "    </tr>\n",
       "    <tr>\n",
       "      <th>1</th>\n",
       "      <td>NSTAR Electric Company</td>\n",
       "      <td>Wind</td>\n",
       "      <td>6357.438</td>\n",
       "    </tr>\n",
       "    <tr>\n",
       "      <th>2</th>\n",
       "      <td>Pacific Gas &amp; Electric Co</td>\n",
       "      <td>Other</td>\n",
       "      <td>2470.532</td>\n",
       "    </tr>\n",
       "  </tbody>\n",
       "</table>\n",
       "</div>"
      ],
      "text/plain": [
       "                Utility Name Technology  Total capacity\n",
       "0  Pacific Gas & Electric Co      Solar        2359.382\n",
       "1     NSTAR Electric Company       Wind        6357.438\n",
       "2  Pacific Gas & Electric Co      Other        2470.532"
      ]
     },
     "execution_count": 19,
     "metadata": {},
     "output_type": "execute_result"
    }
   ],
   "source": [
    "# 1) What policies are leading to more Net Metering customers in Southern California Edison in CA \n",
    "#    compared to Consolidated Edison in NY?\n",
    "\n",
    "# One policy that is likely having an effect on net metering customers in California is the Net Metering 2.0 initiative.\n",
    "# This initiative was implemented in the summer of 2017 and is the follow up to the original system.\n",
    "# One major difference with this new system is that there is no cap on the amount of solar energy eligible for net metering.\n",
    "# This is a major benefit for customers in CA as compared to NY where net metering will shut off once the cap has been reached.\n",
    "\n",
    "# Another factor is that retail rate net metering has been preserved with Net Metering 2.0 in California.\n",
    "# This is not the case in NY, where a compromise with utilities has led to a shift away from retail rate net metering.\n",
    "# The practical difference here is that within a few years, NY residents will be paid less than the ratail rate for their energy.\n",
    "\n",
    "# Sources: https://www.energysage.com/net-metering/sce/\n",
    "#          https://www.energysage.com/net-metering/con-edison/\n",
    "#          https://news.energysage.com/net-metering-2-0-in-california-everything-you-need-to-know/\n",
    "#          https://www.utilitydive.com/news/strange-bedfellows-how-solar-and-utilities-struck-a-net-metering-compromis/419367/\n",
    "\n",
    "\n",
    "# 2) Which utility has the most Net Metering Capacity (MW) by technology?\n",
    "\n",
    "netmeter = pd.read_csv(r'C:\\Users\\Matt\\Downloads\\Net_Metering_2016.csv', skiprows=range(0,3),  thousands=',')\n",
    "netmeter\n",
    "\n",
    "# top capacity for solar\n",
    "pv_capacity = netmeter.groupby(['Utility Name'])[['Total']].sum().reset_index()\n",
    "pv_capacity = pv_capacity.sort_values(by=['Total'], ascending=False).iloc[range(0,1)]\n",
    "pv_capacity['Technology'] = 'Solar'\n",
    "pv_capacity.columns = ['Utility Name','Total capacity','Technology']\n",
    "pv_capacity = pv_capacity[['Utility Name','Technology','Total capacity']]\n",
    "# A: Pacific Gas & Electric, 2359 MW\n",
    "\n",
    "# top capacity for wind\n",
    "wind_capacity = netmeter.groupby(['Utility Name'])[['Total.12']].sum().reset_index()\n",
    "wind_capacity = wind_capacity.sort_values(by=['Total.12'], ascending=False).iloc[range(0,1)]\n",
    "wind_capacity['Technology'] = 'Wind'\n",
    "wind_capacity.columns = ['Utility Name','Total capacity','Technology']\n",
    "wind_capacity = wind_capacity[['Utility Name','Technology','Total capacity']]\n",
    "# A: NSTAR Electric, 6357 MW\n",
    "\n",
    "# top capacity for other technologies\n",
    "other_capacity = netmeter.groupby(['Utility Name'])[['Total.13']].sum().reset_index()\n",
    "other_capacity = other_capacity.sort_values(by=['Total.13'], ascending=False).iloc[range(0,1)]\n",
    "other_capacity['Technology'] = 'Other'\n",
    "other_capacity.columns = ['Utility Name','Total capacity','Technology']\n",
    "other_capacity = other_capacity[['Utility Name','Technology','Total capacity']]\n",
    "# A: Pacific Gas & Electric, 2471 MW\n",
    "\n",
    "final = pd.concat([pv_capacity, wind_capacity, other_capacity], ignore_index=True)\n",
    "\n",
    "final"
   ]
  },
  {
   "cell_type": "markdown",
   "metadata": {},
   "source": [
    "<hr/>\n",
    "## Electricity Sales\n",
    "\n",
    "Some questions may require no data analysis (only research), while others may require both.\n",
    "\n",
    "1) Which Independent System Operator (ISO) (or also known as a Balancing Authority) region has the largest retail electricity sales?"
   ]
  },
  {
   "cell_type": "code",
   "execution_count": 20,
   "metadata": {
    "collapsed": false
   },
   "outputs": [
    {
     "data": {
      "text/html": [
       "<div>\n",
       "<style>\n",
       "    .dataframe thead tr:only-child th {\n",
       "        text-align: right;\n",
       "    }\n",
       "\n",
       "    .dataframe thead th {\n",
       "        text-align: left;\n",
       "    }\n",
       "\n",
       "    .dataframe tbody tr th {\n",
       "        vertical-align: top;\n",
       "    }\n",
       "</style>\n",
       "<table border=\"1\" class=\"dataframe\">\n",
       "  <thead>\n",
       "    <tr style=\"text-align: right;\">\n",
       "      <th></th>\n",
       "      <th>Balancing Authority Name</th>\n",
       "      <th>Total Sales (MWh)</th>\n",
       "    </tr>\n",
       "  </thead>\n",
       "  <tbody>\n",
       "    <tr>\n",
       "      <th>16</th>\n",
       "      <td>Midcontinent Independent Transmission System O...</td>\n",
       "      <td>127593908.0</td>\n",
       "    </tr>\n",
       "  </tbody>\n",
       "</table>\n",
       "</div>"
      ],
      "text/plain": [
       "                             Balancing Authority Name  Total Sales (MWh)\n",
       "16  Midcontinent Independent Transmission System O...        127593908.0"
      ]
     },
     "execution_count": 20,
     "metadata": {},
     "output_type": "execute_result"
    }
   ],
   "source": [
    "# 1) Which Independent System Operator (ISO) (or also known as a Balancing Authority) \n",
    "# region has the largest retail electricity sales?\n",
    "\n",
    "ba = pd.read_csv(r'C:\\Users\\Matt\\Downloads\\Balancing_Authority_2016.csv')\n",
    "short_form = pd.read_excel(r'C:\\Users\\Matt\\Downloads\\Short_Form_2016.xlsx', thousands=',')\n",
    "\n",
    "#merging to get full BA name instead of just code\n",
    "retail_sales = pd.merge(short_form, ba, left_on='BA_CODE', right_on='BA Code', how='left')\n",
    "retail_sales = retail_sales.groupby(['Balancing Authority Name'])[['Total Sales (MWh)']].sum().reset_index()\n",
    "retail_sales = retail_sales.sort_values(by=['Total Sales (MWh)'], ascending=False).iloc[range(0,1)]\n",
    "retail_sales\n",
    "\n",
    "# A: Midcontinent Independent Transmission System Operator, 127,593,908 MWh\n"
   ]
  },
  {
   "cell_type": "markdown",
   "metadata": {},
   "source": [
    "## Python Question \n",
    "Implement the function filter_by_class: It takes a feature matrix, X, an array of classes, y, and a class label, label. It should return all of the rows from X whose label is the given label."
   ]
  },
  {
   "cell_type": "raw",
   "metadata": {},
   "source": [
    "Example: \n",
    " >>> X = np.array([[1, 2, 3], [4, 5, 6], [7, 8, 9], [10, 11, 12]])\n",
    " >>> y = np.array([\"a\", \"c\", \"a\", \"b\"])\n",
    " >>> p.filter_by_class(X, y, \"a\")\n",
    " array([[1, 2, 3],\n",
    "        [7, 8, 9]])\n",
    " >>> p.filter_by_class(X, y, \"b\")\n",
    " array([[10, 11, 12]])"
   ]
  },
  {
   "cell_type": "code",
   "execution_count": 200,
   "metadata": {
    "collapsed": false
   },
   "outputs": [
    {
     "name": "stdout",
     "output_type": "stream",
     "text": [
      "[[1 2 3]\n",
      " [7 8 9]]\n",
      "[[10 11 12]]\n"
     ]
    }
   ],
   "source": [
    "import numpy as np\n",
    "\n",
    "X = np.array([[1, 2, 3], [4, 5, 6], [7, 8, 9], [10, 11, 12]])\n",
    "y = np.array([\"a\", \"c\", \"a\", \"b\"])\n",
    "\n",
    "def filter_by_class(X,y,label):\n",
    "    idx = np.where(y==label)\n",
    "    Z = X[idx]\n",
    "    return(Z)\n",
    "\n",
    "print(filter_by_class(X, y, \"a\"))\n",
    "\n",
    "print(filter_by_class(X, y, \"b\"))\n"
   ]
  },
  {
   "cell_type": "code",
   "execution_count": null,
   "metadata": {
    "collapsed": true
   },
   "outputs": [],
   "source": []
  }
 ],
 "metadata": {
  "kernelspec": {
   "display_name": "Python 2",
   "language": "python",
   "name": "python2"
  },
  "language_info": {
   "codemirror_mode": {
    "name": "ipython",
    "version": 2
   },
   "file_extension": ".py",
   "mimetype": "text/x-python",
   "name": "python",
   "nbconvert_exporter": "python",
   "pygments_lexer": "ipython2",
   "version": "2.7.11"
  }
 },
 "nbformat": 4,
 "nbformat_minor": 2
}
