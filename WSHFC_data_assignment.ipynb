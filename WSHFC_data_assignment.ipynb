{
 "cells": [
  {
   "cell_type": "markdown",
   "metadata": {},
   "source": [
    "## Setup - Import and merge data"
   ]
  },
  {
   "cell_type": "code",
   "execution_count": null,
   "metadata": {
    "collapsed": false
   },
   "outputs": [
    {
     "name": "stdout",
     "output_type": "stream",
     "text": [
      "  Project Current OID       Project: Project Name                  Address1  \\\n",
      "0              18-92A                Renton Crest       3151 NE 16th Street   \n",
      "1              19-65A           Polaris at SeaTac  15307 International Blvd   \n",
      "2              19-74A  Filipino Community Village       5727 37th Avenue S.   \n",
      "3              19-75A             Confluence, The           3631 S 152nd St   \n",
      "4              19-77A           Uncle Bob's Place             417 8th Ave S   \n",
      "\n",
      "      City    Zip County  Count of Sites  Total Building Count  \\\n",
      "0   Renton  98056   King               6                    23   \n",
      "1   Seatac  98199   King               1                    23   \n",
      "2  Seattle  98118   King               1                     1   \n",
      "3  Tukwila  98188   King               1                     1   \n",
      "4  Seattle  98104   King               1                     1   \n",
      "\n",
      "   Common Area Setaside  Market Rate Setaside  ...  LIH 80%  Elderly Setaside  \\\n",
      "0                     3                     1  ...        0               213   \n",
      "1                     3                     0  ...        0                 0   \n",
      "2                     1                     0  ...        0                94   \n",
      "3                     0                     0  ...        0                 0   \n",
      "4                     1                     0  ...        0                 0   \n",
      "\n",
      "   Disabled Setaside  Large Household Setaside   Property Management Company  \\\n",
      "0                  0                        10            Allied Residential   \n",
      "1                 73                        73            Allied Residential   \n",
      "2                 19                         0  HumanGood Affordable Housing   \n",
      "3                  0                        11            Bellwether Housing   \n",
      "4                 25                        13         United Marketing Inc.   \n",
      "\n",
      "                   Authorized Signer Account  First Credit Year  Year 15  \\\n",
      "0                   Renton Housing Authority               2019   2034.0   \n",
      "1                            Blackstone Inc.               2023   2038.0   \n",
      "2               HumanGood Affordable Housing               2021   2035.0   \n",
      "3                         Bellwether Housing               2021   2035.0   \n",
      "4  InterIm Community Development Association               2023   2037.0   \n",
      "\n",
      "   TC Reg Agreement Exp Date  Monitoring Agencies  \n",
      "0                    58075.0                  NaN  \n",
      "1                    60632.0                  NaN  \n",
      "2                    58806.0         COM; KC; SOH  \n",
      "3                    58806.0                   KC  \n",
      "4                    60632.0              KC; SOH  \n",
      "\n",
      "[5 rows x 28 columns]\n",
      "             ProjectName  TotalUnitsBySize  YearCompleted  \\\n",
      "0            OLIVE TOWER              86.0         1983.0   \n",
      "1     BURKE GILMAN PLACE             113.0         1985.0   \n",
      "2   CAMBRIDGE APARTMENTS             157.0         1985.0   \n",
      "3  3904 M L KING JR WY S              33.0         1986.0   \n",
      "4              BROADVIEW              31.0         1986.0   \n",
      "\n",
      "                 Borrower                Address  TotalCityUnitsbySize  \\\n",
      "0     Bellwether  Housing         1624 BOREN AVE                  65.0   \n",
      "1  Burke Gilman Place PDA       5100 40TH AVE NE                 113.0   \n",
      "2          Cambridge LLLP           903 UNION ST                 156.0   \n",
      "3     SEED Properties LLC  3904 M L KING JR WY S                  17.0   \n",
      "4            Solid Ground          420 TERRY AVE                  21.0   \n",
      "\n",
      "   OperatingUnits  OperatingCityUnits           WBARS Parcel #s  \\\n",
      "0              86                  65                 660001970   \n",
      "1             113                 113  Project not in WBARS yet   \n",
      "2             157                 156                1978200225   \n",
      "3              33                  17    Parcel ID not in WBARS   \n",
      "4              31                  21    Parcel ID not in WBARS   \n",
      "\n",
      "  King County Parcel #s Comments   \n",
      "0             660001970       NaN  \n",
      "1            7974700256       NaN  \n",
      "2            1978200225       NaN  \n",
      "3            2539500060       NaN  \n",
      "4            8590900450       NaN  \n"
     ]
    }
   ],
   "source": [
    "import os\n",
    "import pandas as pd\n",
    "\n",
    "raw_bond_data_path = os.environ.get('BOND_DOWNLOAD_PATH')\n",
    "raw_parcel_data_path = os.environ.get('PARCEL_DOWNLOAD_PATH')\n",
    "\n",
    "# Convert to pandas DataFrame\n",
    "bond_data = pd.read_excel(raw_bond_data_path, dtype={'Project: Project Name':str})\n",
    "print(bond_data.head())\n",
    "\n",
    "parcel_data = pd.read_excel(raw_parcel_data_path, dtype={'ProjectName':str})\n",
    "print(parcel_data.head())"
   ]
  },
  {
   "cell_type": "markdown",
   "metadata": {},
   "source": [
    "### Attempting to merge on Project Name and Address columns since that seems to be the only options to join on, but neither option returns any common records"
   ]
  },
  {
   "cell_type": "code",
   "execution_count": null,
   "metadata": {},
   "outputs": [
    {
     "name": "stdout",
     "output_type": "stream",
     "text": [
      "Empty DataFrame\n",
      "Columns: [Project Current OID, Project: Project Name, Address1, City, Zip, County, Count of Sites, Total Building Count, Common Area Setaside, Market Rate Setaside, Compliance LIH Units, Compliance Units, LIH 30%, LIH 35%, LIH 40%, LIH 45%, LIH 50%, LIH 60%, LIH 80%, Elderly Setaside, Disabled Setaside, Large Household Setaside, Property Management Company, Authorized Signer Account, First Credit Year, Year 15, TC Reg Agreement Exp Date, Monitoring Agencies, ProjectName, TotalUnitsBySize, YearCompleted, Borrower, Address, TotalCityUnitsbySize, OperatingUnits, OperatingCityUnits, WBARS Parcel #s, King County Parcel #s, Comments ]\n",
      "Index: []\n",
      "\n",
      "[0 rows x 39 columns]\n"
     ]
    }
   ],
   "source": [
    "combined_data_project = pd.merge(bond_data, parcel_data, left_on='Project: Project Name', right_on='ProjectName')\n",
    "print(combined_data_project.head())"
   ]
  },
  {
   "cell_type": "code",
   "execution_count": 40,
   "metadata": {},
   "outputs": [
    {
     "name": "stdout",
     "output_type": "stream",
     "text": [
      "Empty DataFrame\n",
      "Columns: [Project Current OID, Project: Project Name, Address1, City, Zip, County, Count of Sites, Total Building Count, Common Area Setaside, Market Rate Setaside, Compliance LIH Units, Compliance Units, LIH 30%, LIH 35%, LIH 40%, LIH 45%, LIH 50%, LIH 60%, LIH 80%, Elderly Setaside, Disabled Setaside, Large Household Setaside, Property Management Company, Authorized Signer Account, First Credit Year, Year 15, TC Reg Agreement Exp Date, Monitoring Agencies, ProjectName, TotalUnitsBySize, YearCompleted, Borrower, Address, TotalCityUnitsbySize, OperatingUnits, OperatingCityUnits, WBARS Parcel #s, King County Parcel #s, Comments ]\n",
      "Index: []\n",
      "\n",
      "[0 rows x 39 columns]\n"
     ]
    }
   ],
   "source": [
    "combined_data_address = pd.merge(bond_data, parcel_data, left_on='Address1', right_on='Address')\n",
    "print(combined_data_address.head())"
   ]
  },
  {
   "cell_type": "markdown",
   "metadata": {},
   "source": [
    "### In looking at the some examples from both files, it looks like the project names in the Bond file are upper and lowercase while it is fully uppercase in the Parcel file. So after converting both of those columns to uppercase, the join results in a dataset with 129 shared project names"
   ]
  },
  {
   "cell_type": "code",
   "execution_count": null,
   "metadata": {},
   "outputs": [
    {
     "name": "stdout",
     "output_type": "stream",
     "text": [
      "  Project Current OID       Project: Project Name  \\\n",
      "0              19-74A  FILIPINO COMMUNITY VILLAGE   \n",
      "1              19-77A           UNCLE BOB'S PLACE   \n",
      "2              19-72A             WILLOW CROSSING   \n",
      "3             18-112A               ASPEN TERRACE   \n",
      "4             18-120A           ENCORE APARTMENTS   \n",
      "\n",
      "                               Address1     City    Zip County  \\\n",
      "0                   5727 37th Avenue S.  Seattle  98118   King   \n",
      "1                         417 8th Ave S  Seattle  98104   King   \n",
      "2  6901 Martin Luther King Jr Way South  Seattle  98118   King   \n",
      "3                   1717 Belmont Avenue  Seattle  98122   King   \n",
      "4                        3010 First Ave  Seattle  98121   King   \n",
      "\n",
      "   Count of Sites  Total Building Count  Common Area Setaside  \\\n",
      "0               1                     1                     1   \n",
      "1               1                     1                     1   \n",
      "2               1                     1                     0   \n",
      "3               1                     1                     1   \n",
      "4               1                     1                     0   \n",
      "\n",
      "   Market Rate Setaside  ...  TotalUnitsBySize  YearCompleted  \\\n",
      "0                     0  ...              95.0         2021.0   \n",
      "1                     0  ...             126.0         2023.0   \n",
      "2                     0  ...             211.0         2022.0   \n",
      "3                     0  ...              90.0         2020.0   \n",
      "4                     0  ...              60.0         2021.0   \n",
      "\n",
      "                          Borrower                Address  \\\n",
      "0  Filipino Community Village LLLP        5727 37TH AVE S   \n",
      "1            Uncle Bob's Place LLC          714 S KING ST   \n",
      "2             Willow Crossing LLLP  6901 M L KING JR WY S   \n",
      "3           Pioneer Belmont 1 LLLP       1723 BELMONT AVE   \n",
      "4              Encore Housing LLLP           3010 1ST AVE   \n",
      "\n",
      "   TotalCityUnitsbySize  OperatingUnits  OperatingCityUnits  WBARS Parcel #s  \\\n",
      "0                  94.0              95                  94       3426600080   \n",
      "1                 125.0             126                 125       8801750010   \n",
      "2                 211.0             211                 211       3333002960   \n",
      "3                  89.0              90                  89        880490068   \n",
      "4                  60.0              60                  60        695000205   \n",
      "\n",
      "   King County Parcel #s                     Comments   \n",
      "0             2499950000                           NaN  \n",
      "1             8801750000                           NaN  \n",
      "2             3333002960                           NaN  \n",
      "3             8804900680  shows up as 1717 Belmont Ave  \n",
      "4              695000205                           NaN  \n",
      "\n",
      "[5 rows x 39 columns]\n",
      "129\n"
     ]
    }
   ],
   "source": [
    "bond_data['Project: Project Name'] = bond_data['Project: Project Name'].str.upper()\n",
    "parcel_data['ProjectName'] = parcel_data['ProjectName'].str.upper()\n",
    "\n",
    "combined_data = pd.merge(bond_data, parcel_data, left_on='Project: Project Name', right_on='ProjectName')\n",
    "print(combined_data.head())\n",
    "print(len(combined_data))"
   ]
  },
  {
   "cell_type": "markdown",
   "metadata": {},
   "source": [
    "### However, I noticed when looking through some of the entries that the addresses did not seem to match up either. Sometimes this was due to differences like AVE vs. Avenue and S vs. South, but there were also some instances of different street numbers and even different street names. The latter differences definitely make me concerned that some properties are not actually the same."
   ]
  },
  {
   "cell_type": "code",
   "execution_count": null,
   "metadata": {},
   "outputs": [
    {
     "data": {
      "text/html": [
       "<div>\n",
       "<style scoped>\n",
       "    .dataframe tbody tr th:only-of-type {\n",
       "        vertical-align: middle;\n",
       "    }\n",
       "\n",
       "    .dataframe tbody tr th {\n",
       "        vertical-align: top;\n",
       "    }\n",
       "\n",
       "    .dataframe thead th {\n",
       "        text-align: right;\n",
       "    }\n",
       "</style>\n",
       "<table border=\"1\" class=\"dataframe\">\n",
       "  <thead>\n",
       "    <tr style=\"text-align: right;\">\n",
       "      <th></th>\n",
       "      <th>Project: Project Name</th>\n",
       "      <th>Address</th>\n",
       "      <th>Address1</th>\n",
       "    </tr>\n",
       "  </thead>\n",
       "  <tbody>\n",
       "    <tr>\n",
       "      <th>0</th>\n",
       "      <td>FILIPINO COMMUNITY VILLAGE</td>\n",
       "      <td>5727 37TH AVE S</td>\n",
       "      <td>5727 37th Avenue S.</td>\n",
       "    </tr>\n",
       "    <tr>\n",
       "      <th>1</th>\n",
       "      <td>UNCLE BOB'S PLACE</td>\n",
       "      <td>714 S KING ST</td>\n",
       "      <td>417 8th Ave S</td>\n",
       "    </tr>\n",
       "    <tr>\n",
       "      <th>2</th>\n",
       "      <td>WILLOW CROSSING</td>\n",
       "      <td>6901 M L KING JR WY S</td>\n",
       "      <td>6901 Martin Luther King Jr Way South</td>\n",
       "    </tr>\n",
       "    <tr>\n",
       "      <th>3</th>\n",
       "      <td>ASPEN TERRACE</td>\n",
       "      <td>1723 BELMONT AVE</td>\n",
       "      <td>1717 Belmont Avenue</td>\n",
       "    </tr>\n",
       "    <tr>\n",
       "      <th>4</th>\n",
       "      <td>ENCORE APARTMENTS</td>\n",
       "      <td>3010 1ST AVE</td>\n",
       "      <td>3010 First Ave</td>\n",
       "    </tr>\n",
       "    <tr>\n",
       "      <th>...</th>\n",
       "      <td>...</td>\n",
       "      <td>...</td>\n",
       "      <td>...</td>\n",
       "    </tr>\n",
       "    <tr>\n",
       "      <th>124</th>\n",
       "      <td>COMPASS BROADVIEW</td>\n",
       "      <td>147 N 132ND ST</td>\n",
       "      <td>13047 Greenwood Ave N</td>\n",
       "    </tr>\n",
       "    <tr>\n",
       "      <th>125</th>\n",
       "      <td>GARDNER HOUSE</td>\n",
       "      <td>2870 S HANFORD ST</td>\n",
       "      <td>2870 South Hanford St</td>\n",
       "    </tr>\n",
       "    <tr>\n",
       "      <th>126</th>\n",
       "      <td>POLARIS AT RAINIER BEACH</td>\n",
       "      <td>9400 RAINIER AVE S</td>\n",
       "      <td>9400 Rainier Avenue S.</td>\n",
       "    </tr>\n",
       "    <tr>\n",
       "      <th>127</th>\n",
       "      <td>AN LAC</td>\n",
       "      <td>1253 S JACKSON ST</td>\n",
       "      <td>1253 S. Jackson Street, Suite A</td>\n",
       "    </tr>\n",
       "    <tr>\n",
       "      <th>128</th>\n",
       "      <td>STATION HOUSE</td>\n",
       "      <td>131 10TH AVE E</td>\n",
       "      <td>131 Tenth Ave E</td>\n",
       "    </tr>\n",
       "  </tbody>\n",
       "</table>\n",
       "<p>129 rows × 3 columns</p>\n",
       "</div>"
      ],
      "text/plain": [
       "          Project: Project Name                Address  \\\n",
       "0    FILIPINO COMMUNITY VILLAGE        5727 37TH AVE S   \n",
       "1             UNCLE BOB'S PLACE          714 S KING ST   \n",
       "2               WILLOW CROSSING  6901 M L KING JR WY S   \n",
       "3                 ASPEN TERRACE       1723 BELMONT AVE   \n",
       "4             ENCORE APARTMENTS           3010 1ST AVE   \n",
       "..                          ...                    ...   \n",
       "124           COMPASS BROADVIEW         147 N 132ND ST   \n",
       "125               GARDNER HOUSE      2870 S HANFORD ST   \n",
       "126    POLARIS AT RAINIER BEACH     9400 RAINIER AVE S   \n",
       "127                      AN LAC      1253 S JACKSON ST   \n",
       "128               STATION HOUSE         131 10TH AVE E   \n",
       "\n",
       "                                 Address1  \n",
       "0                     5727 37th Avenue S.  \n",
       "1                           417 8th Ave S  \n",
       "2    6901 Martin Luther King Jr Way South  \n",
       "3                     1717 Belmont Avenue  \n",
       "4                          3010 First Ave  \n",
       "..                                    ...  \n",
       "124                 13047 Greenwood Ave N  \n",
       "125                 2870 South Hanford St  \n",
       "126                9400 Rainier Avenue S.  \n",
       "127       1253 S. Jackson Street, Suite A  \n",
       "128                       131 Tenth Ave E  \n",
       "\n",
       "[129 rows x 3 columns]"
      ]
     },
     "execution_count": 42,
     "metadata": {},
     "output_type": "execute_result"
    }
   ],
   "source": [
    "combined_data[['Project: Project Name','Address','Address1']]"
   ]
  },
  {
   "cell_type": "markdown",
   "metadata": {},
   "source": [
    "### We can also check accuracy by looking at the number of units listed in each dataset. There are only 5 matching projects in this dataset that do not have the same number of units which does give me more confidence that the matches are accurate."
   ]
  },
  {
   "cell_type": "code",
   "execution_count": null,
   "metadata": {},
   "outputs": [
    {
     "name": "stdout",
     "output_type": "stream",
     "text": [
      "5\n",
      "   Project Current OID             Project: Project Name  \\\n",
      "13             21-115A           ALTAIRE AT JACKSON PARK   \n",
      "21              23-61A                JUNIPER APARTMENTS   \n",
      "25              98-30N                    RAVENNA SCHOOL   \n",
      "65               04-36  1811 EASTLAKE SUPPORTIVE HOUSING   \n",
      "72              05-92A              CAMBRIDGE APARTMENTS   \n",
      "\n",
      "                  Address1     City    Zip County  Count of Sites  \\\n",
      "13       14343 15th Ave NE  Seattle  98125   King               1   \n",
      "21      321 10th Ave South  Seattle  98104   King               1   \n",
      "25  6545 Ravenna Avenue NE  Seattle  98115   King               1   \n",
      "65       1811 Eastlake Ave  Seattle  98101   King               1   \n",
      "72      13030 Linden Ave N  Seattle  98133   King               1   \n",
      "\n",
      "    Total Building Count  Common Area Setaside  Market Rate Setaside  ...  \\\n",
      "13                     1                     1                     0  ...   \n",
      "21                     1                     0                     0  ...   \n",
      "25                     1                     1                     0  ...   \n",
      "65                     1                     0                     0  ...   \n",
      "72                     2                     2                     0  ...   \n",
      "\n",
      "    YearCompleted                                           Borrower  \\\n",
      "13            NaN  SRM Development/Urban League of Metropolitan S...   \n",
      "21            NaN                              Yesler Block 6 6 LLLP   \n",
      "25            NaN                 Ravenna School Limited Partnership   \n",
      "65         2005.0                  Downtown Emergency Service Center   \n",
      "72         1985.0                                     Cambridge LLLP   \n",
      "\n",
      "                Address  TotalCityUnitsbySize  OperatingUnits  \\\n",
      "13    14343 15TH AVE NE                 206.0               0   \n",
      "21       321 10TH AVE S                 113.0               0   \n",
      "25  6545 RAVENNA AVE NE                  38.0               0   \n",
      "65    1811 EASTLAKE AVE                  75.0              75   \n",
      "72         903 UNION ST                 156.0             157   \n",
      "\n",
      "    OperatingCityUnits           WBARS Parcel #s  King County Parcel #s  \\\n",
      "13                   0  Project not in WBARS yet             6632300630   \n",
      "21                   0  Project not in WBARS yet             6599950000   \n",
      "25                   0                7173500010             7173500000   \n",
      "65                  75                7117500010             7117500010   \n",
      "72                 156                1978200225             1978200225   \n",
      "\n",
      "    Comments   Matching Units  \n",
      "13        NaN           False  \n",
      "21        NaN           False  \n",
      "25        NaN           False  \n",
      "65        NaN           False  \n",
      "72        NaN           False  \n",
      "\n",
      "[5 rows x 40 columns]\n"
     ]
    }
   ],
   "source": [
    "# create True/False column indicating whether the number of units matches across the two datasets\n",
    "combined_data['Matching Units'] = combined_data['Compliance Units'] == combined_data['OperatingUnits']\n",
    "\n",
    "# number of matching projects with different number of units\n",
    "print(len(combined_data.loc[combined_data['Matching Units']==False,]))\n",
    "print(combined_data.loc[combined_data['Matching Units']==False,])"
   ]
  },
  {
   "cell_type": "markdown",
   "metadata": {},
   "source": [
    "### Overall, these two datasets are clearly describing similar projects but are not organized in a way that makes them easy to combine. I would want to check with the owners of both of these datasets to confirm my assumptions about which columns map together (like Compliance Units and Operating Units) and determine if there are any other shared columns like a project ID that might be easier to join on. I would also want to do futher research into the address discrepancies to confirm that the projects in the combined dataset are actually a 100% match"
   ]
  },
  {
   "cell_type": "code",
   "execution_count": 58,
   "metadata": {},
   "outputs": [],
   "source": [
    "combined_data.to_excel(os.environ.get('DOWNLOAD_PATH'), index=False)"
   ]
  }
 ],
 "metadata": {
  "kernelspec": {
   "display_name": "Python 3",
   "language": "python",
   "name": "python3"
  },
  "language_info": {
   "codemirror_mode": {
    "name": "ipython",
    "version": 3
   },
   "file_extension": ".py",
   "mimetype": "text/x-python",
   "name": "python",
   "nbconvert_exporter": "python",
   "pygments_lexer": "ipython3",
   "version": "3.13.2"
  }
 },
 "nbformat": 4,
 "nbformat_minor": 0
}
