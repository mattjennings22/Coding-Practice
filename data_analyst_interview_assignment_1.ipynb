{
 "cells": [
  {
   "cell_type": "markdown",
   "metadata": {},
   "source": [
    "# Data Setup"
   ]
  },
  {
   "cell_type": "markdown",
   "metadata": {},
   "source": [
    "## I. Import database"
   ]
  },
  {
   "cell_type": "code",
   "execution_count": 1,
   "metadata": {
    "collapsed": false
   },
   "outputs": [],
   "source": [
    "import sqlite3\n",
    "import pandas as pd\n",
    "import matplotlib.pyplot as plt\n",
    "\n",
    "db_file = 'db1.sqlite3'\n",
    "conn = sqlite3.connect(db_file)\n",
    "c = conn.cursor()"
   ]
  },
  {
   "cell_type": "markdown",
   "metadata": {},
   "source": [
    "## II. Define functions"
   ]
  },
  {
   "cell_type": "code",
   "execution_count": 2,
   "metadata": {
    "collapsed": false
   },
   "outputs": [],
   "source": [
    "# use this function to return a value from a query\n",
    "def query_db(statement):\n",
    "    return c.execute(statement).fetchall()[0][0]\n",
    "\n",
    "# use this function to list all column names for a given table\n",
    "def col_names(table):\n",
    "    statement = \"PRAGMA table_info({})\".format(table)\n",
    "    return c.execute(statement).fetchall()\n",
    "\n",
    "# use this function to return a dataframe from a query\n",
    "def create_df(statement):\n",
    "    return pd.read_sql_query(statement, conn)"
   ]
  },
  {
   "cell_type": "code",
   "execution_count": 3,
   "metadata": {
    "collapsed": false
   },
   "outputs": [
    {
     "data": {
      "text/plain": [
       "35826"
      ]
     },
     "execution_count": 3,
     "metadata": {},
     "output_type": "execute_result"
    }
   ],
   "source": [
    "query_db('select count(*) from people_person where date_joined < \"2018-02-03\"')"
   ]
  },
  {
   "cell_type": "code",
   "execution_count": 4,
   "metadata": {
    "collapsed": false
   },
   "outputs": [
    {
     "data": {
      "text/plain": [
       "[(0, 'id', 'integer', 1, None, 1),\n",
       " (1, 'first_name', 'varchar(30)', 1, None, 0),\n",
       " (2, 'last_name', 'varchar(30)', 1, None, 0),\n",
       " (3, 'email', 'varchar(100)', 1, None, 0),\n",
       " (4, 'channel', 'varchar(20)', 1, None, 0),\n",
       " (5, 'date_joined', 'datetime', 1, None, 0),\n",
       " (6, 'photo', 'varchar(200)', 1, None, 0),\n",
       " (7, 'fee', 'decimal', 1, None, 0),\n",
       " (8, 'gender', 'varchar(1)', 1, None, 0)]"
      ]
     },
     "execution_count": 4,
     "metadata": {},
     "output_type": "execute_result"
    }
   ],
   "source": [
    "col_names('people_person')"
   ]
  },
  {
   "cell_type": "code",
   "execution_count": 5,
   "metadata": {
    "collapsed": false
   },
   "outputs": [
    {
     "data": {
      "text/html": [
       "<div>\n",
       "<style scoped>\n",
       "    .dataframe tbody tr th:only-of-type {\n",
       "        vertical-align: middle;\n",
       "    }\n",
       "\n",
       "    .dataframe tbody tr th {\n",
       "        vertical-align: top;\n",
       "    }\n",
       "\n",
       "    .dataframe thead th {\n",
       "        text-align: right;\n",
       "    }\n",
       "</style>\n",
       "<table border=\"1\" class=\"dataframe\">\n",
       "  <thead>\n",
       "    <tr style=\"text-align: right;\">\n",
       "      <th></th>\n",
       "      <th>id</th>\n",
       "      <th>first_name</th>\n",
       "      <th>last_name</th>\n",
       "      <th>email</th>\n",
       "      <th>channel</th>\n",
       "      <th>date_joined</th>\n",
       "      <th>photo</th>\n",
       "      <th>fee</th>\n",
       "      <th>gender</th>\n",
       "    </tr>\n",
       "  </thead>\n",
       "  <tbody>\n",
       "    <tr>\n",
       "      <td>0</td>\n",
       "      <td>1</td>\n",
       "      <td>Leanora</td>\n",
       "      <td>Allcock</td>\n",
       "      <td>leanora.allcock635@hotmail.com</td>\n",
       "      <td></td>\n",
       "      <td>2016-08-02 14:59:15.095591</td>\n",
       "      <td>https://placekitten.com/242/269</td>\n",
       "      <td>0</td>\n",
       "      <td>f</td>\n",
       "    </tr>\n",
       "    <tr>\n",
       "      <td>1</td>\n",
       "      <td>2</td>\n",
       "      <td>Elroy</td>\n",
       "      <td>Blanding</td>\n",
       "      <td>elroy.blanding510@yahoo.com</td>\n",
       "      <td></td>\n",
       "      <td>2016-08-02 18:15:30.105940</td>\n",
       "      <td>https://placekitten.com/373/320</td>\n",
       "      <td>0</td>\n",
       "      <td>m</td>\n",
       "    </tr>\n",
       "    <tr>\n",
       "      <td>2</td>\n",
       "      <td>3</td>\n",
       "      <td>Jeanice</td>\n",
       "      <td>Aleman</td>\n",
       "      <td>jeanice.aleman392@hotmail.com</td>\n",
       "      <td></td>\n",
       "      <td>2016-08-02 16:11:09.542004</td>\n",
       "      <td>https://placekitten.com/238/264</td>\n",
       "      <td>0</td>\n",
       "      <td>f</td>\n",
       "    </tr>\n",
       "    <tr>\n",
       "      <td>3</td>\n",
       "      <td>4</td>\n",
       "      <td>Tamala</td>\n",
       "      <td>Polhamus</td>\n",
       "      <td>tamala.polhamus146@aol.com</td>\n",
       "      <td></td>\n",
       "      <td>2016-08-02 18:02:40.389299</td>\n",
       "      <td>https://placekitten.com/220/223</td>\n",
       "      <td>0</td>\n",
       "      <td>f</td>\n",
       "    </tr>\n",
       "    <tr>\n",
       "      <td>4</td>\n",
       "      <td>5</td>\n",
       "      <td>Alethea</td>\n",
       "      <td>Gubler</td>\n",
       "      <td>alethea.gubler708@aol.com</td>\n",
       "      <td></td>\n",
       "      <td>2016-08-02 14:31:53.163034</td>\n",
       "      <td>https://placekitten.com/284/339</td>\n",
       "      <td>0</td>\n",
       "      <td>f</td>\n",
       "    </tr>\n",
       "  </tbody>\n",
       "</table>\n",
       "</div>"
      ],
      "text/plain": [
       "   id first_name last_name                           email channel  \\\n",
       "0   1    Leanora   Allcock  leanora.allcock635@hotmail.com           \n",
       "1   2      Elroy  Blanding     elroy.blanding510@yahoo.com           \n",
       "2   3    Jeanice    Aleman   jeanice.aleman392@hotmail.com           \n",
       "3   4     Tamala  Polhamus      tamala.polhamus146@aol.com           \n",
       "4   5    Alethea    Gubler       alethea.gubler708@aol.com           \n",
       "\n",
       "                  date_joined                            photo  fee gender  \n",
       "0  2016-08-02 14:59:15.095591  https://placekitten.com/242/269    0      f  \n",
       "1  2016-08-02 18:15:30.105940  https://placekitten.com/373/320    0      m  \n",
       "2  2016-08-02 16:11:09.542004  https://placekitten.com/238/264    0      f  \n",
       "3  2016-08-02 18:02:40.389299  https://placekitten.com/220/223    0      f  \n",
       "4  2016-08-02 14:31:53.163034  https://placekitten.com/284/339    0      f  "
      ]
     },
     "execution_count": 5,
     "metadata": {},
     "output_type": "execute_result"
    }
   ],
   "source": [
    "create_df('select * from people_person where date_joined < \"2018-02-03\" limit 5')"
   ]
  },
  {
   "cell_type": "markdown",
   "metadata": {},
   "source": [
    "# Questions"
   ]
  },
  {
   "cell_type": "markdown",
   "metadata": {},
   "source": [
    "## II. Conversations and Bookings"
   ]
  },
  {
   "cell_type": "code",
   "execution_count": 6,
   "metadata": {
    "collapsed": false
   },
   "outputs": [
    {
     "data": {
      "text/plain": [
       "[(0, 'id', 'integer', 1, None, 1),\n",
       " (1, 'content', 'varchar(500)', 1, None, 0),\n",
       " (2, 'stars', 'smallint unsigned', 1, None, 0),\n",
       " (3, 'conversation_id', 'integer', 1, None, 0),\n",
       " (4, 'reviewer_id', 'integer', 1, None, 0)]"
      ]
     },
     "execution_count": 6,
     "metadata": {},
     "output_type": "execute_result"
    }
   ],
   "source": [
    "# determine columns\n",
    "col_names('conversations_review')"
   ]
  },
  {
   "cell_type": "code",
   "execution_count": 7,
   "metadata": {
    "collapsed": false
   },
   "outputs": [],
   "source": [
    "# create review datframe\n",
    "review_df = create_df('''select stars, reviewer_id, requester_id from conversations_review as review\n",
    "                      left join conversations_conversation as conv on review.conversation_id = conv.id''')"
   ]
  },
  {
   "cell_type": "code",
   "execution_count": 8,
   "metadata": {
    "collapsed": false
   },
   "outputs": [],
   "source": [
    "# distribution of reviewers\n",
    "review_results = pd.DataFrame(columns=['user_type', 'share_of_total_reviews', 'average_review'])\n",
    "\n",
    "# owners\n",
    "owner_share = len(review_df[review_df['reviewer_id'] == review_df['requester_id']])/len(review_df)\n",
    "owner_review_avg = review_df.loc[review_df['reviewer_id'] == review_df['requester_id'], 'stars'].mean()\n",
    "review_results = review_results.append({'user_type':'owner','share_of_total_reviews':owner_share,\n",
    "                                        'average_review':owner_review_avg},ignore_index=True)\n",
    "\n",
    "# provider\n",
    "provider_share = len(review_df[review_df['reviewer_id'] != review_df['requester_id']])/len(review_df)\n",
    "provider_review_avg = review_df.loc[review_df['reviewer_id'] != review_df['requester_id'], 'stars'].mean()\n",
    "review_results = review_results.append({'user_type':'provider','share_of_total_reviews':provider_share,\n",
    "                                        'average_review':provider_review_avg},ignore_index=True)"
   ]
  },
  {
   "cell_type": "code",
   "execution_count": 9,
   "metadata": {
    "collapsed": false
   },
   "outputs": [
    {
     "data": {
      "text/html": [
       "<div>\n",
       "<style scoped>\n",
       "    .dataframe tbody tr th:only-of-type {\n",
       "        vertical-align: middle;\n",
       "    }\n",
       "\n",
       "    .dataframe tbody tr th {\n",
       "        vertical-align: top;\n",
       "    }\n",
       "\n",
       "    .dataframe thead th {\n",
       "        text-align: right;\n",
       "    }\n",
       "</style>\n",
       "<table border=\"1\" class=\"dataframe\">\n",
       "  <thead>\n",
       "    <tr style=\"text-align: right;\">\n",
       "      <th></th>\n",
       "      <th>user_type</th>\n",
       "      <th>share_of_total_reviews</th>\n",
       "      <th>average_review</th>\n",
       "    </tr>\n",
       "  </thead>\n",
       "  <tbody>\n",
       "    <tr>\n",
       "      <td>0</td>\n",
       "      <td>owner</td>\n",
       "      <td>0.787753</td>\n",
       "      <td>4.415841</td>\n",
       "    </tr>\n",
       "    <tr>\n",
       "      <td>1</td>\n",
       "      <td>provider</td>\n",
       "      <td>0.212247</td>\n",
       "      <td>3.904817</td>\n",
       "    </tr>\n",
       "  </tbody>\n",
       "</table>\n",
       "</div>"
      ],
      "text/plain": [
       "  user_type  share_of_total_reviews  average_review\n",
       "0     owner                0.787753        4.415841\n",
       "1  provider                0.212247        3.904817"
      ]
     },
     "execution_count": 9,
     "metadata": {},
     "output_type": "execute_result"
    }
   ],
   "source": [
    "review_results"
   ]
  },
  {
   "cell_type": "markdown",
   "metadata": {},
   "source": [
    "### The results table above shows that pet owners provide about 79% of all reviews, close to four times more reviews than providers. Additionally, owners leave higher average reviews than providers (4.42 compared to 3.90)."
   ]
  },
  {
   "cell_type": "markdown",
   "metadata": {},
   "source": [
    "### I would narrate this finding to a business partner by noting the figures above, as well as the sample size used to create these summary statistics. This is a fairly large sample so we can conclude that it's likely that there is an underlying trend in this data. If the business partner is interested in figuring out why these large differences exist, I would break these results down further to see the effect that pet type, service type, location, or other factors might have on the reviews."
   ]
  },
  {
   "cell_type": "markdown",
   "metadata": {},
   "source": [
    "## IV. Analyzing Take Rate"
   ]
  },
  {
   "cell_type": "code",
   "execution_count": 59,
   "metadata": {
    "collapsed": false
   },
   "outputs": [],
   "source": [
    "# create billing datframe\n",
    "billings_df = create_df('''select requester_id, booked_at, strftime(\"%Y-%m\", booked_at) as booking_month,\n",
    "                              booking_total, people.fee as owner_fee, service.fee as service_fee\n",
    "                              from conversations_conversation as conv\n",
    "                              left join people_person as people on conv.requester_id = people.id\n",
    "                              left join services_service as service on conv.service_id = service.id\n",
    "                              where booked_at != \"None\" and cancelled_at is null''')"
   ]
  },
  {
   "cell_type": "code",
   "execution_count": 60,
   "metadata": {
    "collapsed": false
   },
   "outputs": [],
   "source": [
    "# add columns\n",
    "billings_df['owner_fee_dollars'] = billings_df['booking_total'] * billings_df['owner_fee']\n",
    "billings_df['gross_bill'] = billings_df['booking_total'] + billings_df['owner_fee_dollars']\n",
    "billings_df['service_fee_dollars'] = billings_df['booking_total'] * billings_df['service_fee']\n",
    "billings_df['net_revenue'] = billings_df['owner_fee_dollars'] + billings_df['service_fee_dollars']\n",
    "\n",
    "\n",
    "# group by month\n",
    "billing_table = billings_df.groupby(['booking_month'])[['gross_bill', 'net_revenue']].sum().reset_index()\n",
    "\n",
    "# add take rate\n",
    "billing_table['take_rate'] = billing_table['net_revenue'] / billing_table['gross_bill']"
   ]
  },
  {
   "cell_type": "code",
   "execution_count": 82,
   "metadata": {
    "collapsed": false
   },
   "outputs": [
    {
     "data": {
      "text/html": [
       "<div>\n",
       "<style scoped>\n",
       "    .dataframe tbody tr th:only-of-type {\n",
       "        vertical-align: middle;\n",
       "    }\n",
       "\n",
       "    .dataframe tbody tr th {\n",
       "        vertical-align: top;\n",
       "    }\n",
       "\n",
       "    .dataframe thead th {\n",
       "        text-align: right;\n",
       "    }\n",
       "</style>\n",
       "<table border=\"1\" class=\"dataframe\">\n",
       "  <thead>\n",
       "    <tr style=\"text-align: right;\">\n",
       "      <th></th>\n",
       "      <th>booking_month</th>\n",
       "      <th>gross_bill</th>\n",
       "      <th>net_revenue</th>\n",
       "      <th>take_rate</th>\n",
       "    </tr>\n",
       "  </thead>\n",
       "  <tbody>\n",
       "    <tr>\n",
       "      <td>0</td>\n",
       "      <td>2016-08</td>\n",
       "      <td>3810.72</td>\n",
       "      <td>635.12</td>\n",
       "      <td>0.166667</td>\n",
       "    </tr>\n",
       "    <tr>\n",
       "      <td>1</td>\n",
       "      <td>2016-09</td>\n",
       "      <td>16478.10</td>\n",
       "      <td>2746.35</td>\n",
       "      <td>0.166667</td>\n",
       "    </tr>\n",
       "    <tr>\n",
       "      <td>2</td>\n",
       "      <td>2016-10</td>\n",
       "      <td>28833.36</td>\n",
       "      <td>4805.56</td>\n",
       "      <td>0.166667</td>\n",
       "    </tr>\n",
       "    <tr>\n",
       "      <td>3</td>\n",
       "      <td>2016-11</td>\n",
       "      <td>38414.22</td>\n",
       "      <td>6402.37</td>\n",
       "      <td>0.166667</td>\n",
       "    </tr>\n",
       "    <tr>\n",
       "      <td>4</td>\n",
       "      <td>2016-12</td>\n",
       "      <td>51103.98</td>\n",
       "      <td>8575.93</td>\n",
       "      <td>0.167813</td>\n",
       "    </tr>\n",
       "    <tr>\n",
       "      <td>5</td>\n",
       "      <td>2017-01</td>\n",
       "      <td>69952.14</td>\n",
       "      <td>12943.49</td>\n",
       "      <td>0.185034</td>\n",
       "    </tr>\n",
       "    <tr>\n",
       "      <td>6</td>\n",
       "      <td>2017-02</td>\n",
       "      <td>82967.76</td>\n",
       "      <td>15410.61</td>\n",
       "      <td>0.185742</td>\n",
       "    </tr>\n",
       "    <tr>\n",
       "      <td>7</td>\n",
       "      <td>2017-03</td>\n",
       "      <td>115218.81</td>\n",
       "      <td>21550.51</td>\n",
       "      <td>0.187040</td>\n",
       "    </tr>\n",
       "    <tr>\n",
       "      <td>8</td>\n",
       "      <td>2017-04</td>\n",
       "      <td>122019.60</td>\n",
       "      <td>22890.05</td>\n",
       "      <td>0.187593</td>\n",
       "    </tr>\n",
       "    <tr>\n",
       "      <td>9</td>\n",
       "      <td>2017-05</td>\n",
       "      <td>150345.78</td>\n",
       "      <td>28323.93</td>\n",
       "      <td>0.188392</td>\n",
       "    </tr>\n",
       "    <tr>\n",
       "      <td>10</td>\n",
       "      <td>2017-06</td>\n",
       "      <td>169077.42</td>\n",
       "      <td>32824.67</td>\n",
       "      <td>0.194140</td>\n",
       "    </tr>\n",
       "    <tr>\n",
       "      <td>11</td>\n",
       "      <td>2017-07</td>\n",
       "      <td>183187.50</td>\n",
       "      <td>36960.00</td>\n",
       "      <td>0.201760</td>\n",
       "    </tr>\n",
       "    <tr>\n",
       "      <td>12</td>\n",
       "      <td>2017-08</td>\n",
       "      <td>210495.57</td>\n",
       "      <td>43617.82</td>\n",
       "      <td>0.207215</td>\n",
       "    </tr>\n",
       "    <tr>\n",
       "      <td>13</td>\n",
       "      <td>2017-09</td>\n",
       "      <td>233801.67</td>\n",
       "      <td>50341.67</td>\n",
       "      <td>0.215318</td>\n",
       "    </tr>\n",
       "    <tr>\n",
       "      <td>14</td>\n",
       "      <td>2017-10</td>\n",
       "      <td>274740.48</td>\n",
       "      <td>59484.28</td>\n",
       "      <td>0.216511</td>\n",
       "    </tr>\n",
       "    <tr>\n",
       "      <td>15</td>\n",
       "      <td>2017-11</td>\n",
       "      <td>280036.11</td>\n",
       "      <td>60950.91</td>\n",
       "      <td>0.217654</td>\n",
       "    </tr>\n",
       "    <tr>\n",
       "      <td>16</td>\n",
       "      <td>2017-12</td>\n",
       "      <td>328178.04</td>\n",
       "      <td>74511.39</td>\n",
       "      <td>0.227046</td>\n",
       "    </tr>\n",
       "    <tr>\n",
       "      <td>17</td>\n",
       "      <td>2018-01</td>\n",
       "      <td>352150.75</td>\n",
       "      <td>81618.35</td>\n",
       "      <td>0.231771</td>\n",
       "    </tr>\n",
       "    <tr>\n",
       "      <td>18</td>\n",
       "      <td>2018-02</td>\n",
       "      <td>331139.58</td>\n",
       "      <td>77399.88</td>\n",
       "      <td>0.233738</td>\n",
       "    </tr>\n",
       "    <tr>\n",
       "      <td>19</td>\n",
       "      <td>2018-03</td>\n",
       "      <td>409591.99</td>\n",
       "      <td>95958.39</td>\n",
       "      <td>0.234278</td>\n",
       "    </tr>\n",
       "    <tr>\n",
       "      <td>20</td>\n",
       "      <td>2018-04</td>\n",
       "      <td>435705.69</td>\n",
       "      <td>103370.89</td>\n",
       "      <td>0.237249</td>\n",
       "    </tr>\n",
       "    <tr>\n",
       "      <td>21</td>\n",
       "      <td>2018-05</td>\n",
       "      <td>504302.89</td>\n",
       "      <td>120369.64</td>\n",
       "      <td>0.238685</td>\n",
       "    </tr>\n",
       "    <tr>\n",
       "      <td>22</td>\n",
       "      <td>2018-06</td>\n",
       "      <td>545595.09</td>\n",
       "      <td>130917.09</td>\n",
       "      <td>0.239953</td>\n",
       "    </tr>\n",
       "    <tr>\n",
       "      <td>23</td>\n",
       "      <td>2018-07</td>\n",
       "      <td>671235.75</td>\n",
       "      <td>161878.40</td>\n",
       "      <td>0.241165</td>\n",
       "    </tr>\n",
       "    <tr>\n",
       "      <td>24</td>\n",
       "      <td>2018-08</td>\n",
       "      <td>33477.22</td>\n",
       "      <td>8069.92</td>\n",
       "      <td>0.241057</td>\n",
       "    </tr>\n",
       "  </tbody>\n",
       "</table>\n",
       "</div>"
      ],
      "text/plain": [
       "   booking_month  gross_bill  net_revenue  take_rate\n",
       "0        2016-08     3810.72       635.12   0.166667\n",
       "1        2016-09    16478.10      2746.35   0.166667\n",
       "2        2016-10    28833.36      4805.56   0.166667\n",
       "3        2016-11    38414.22      6402.37   0.166667\n",
       "4        2016-12    51103.98      8575.93   0.167813\n",
       "5        2017-01    69952.14     12943.49   0.185034\n",
       "6        2017-02    82967.76     15410.61   0.185742\n",
       "7        2017-03   115218.81     21550.51   0.187040\n",
       "8        2017-04   122019.60     22890.05   0.187593\n",
       "9        2017-05   150345.78     28323.93   0.188392\n",
       "10       2017-06   169077.42     32824.67   0.194140\n",
       "11       2017-07   183187.50     36960.00   0.201760\n",
       "12       2017-08   210495.57     43617.82   0.207215\n",
       "13       2017-09   233801.67     50341.67   0.215318\n",
       "14       2017-10   274740.48     59484.28   0.216511\n",
       "15       2017-11   280036.11     60950.91   0.217654\n",
       "16       2017-12   328178.04     74511.39   0.227046\n",
       "17       2018-01   352150.75     81618.35   0.231771\n",
       "18       2018-02   331139.58     77399.88   0.233738\n",
       "19       2018-03   409591.99     95958.39   0.234278\n",
       "20       2018-04   435705.69    103370.89   0.237249\n",
       "21       2018-05   504302.89    120369.64   0.238685\n",
       "22       2018-06   545595.09    130917.09   0.239953\n",
       "23       2018-07   671235.75    161878.40   0.241165\n",
       "24       2018-08    33477.22      8069.92   0.241057"
      ]
     },
     "execution_count": 82,
     "metadata": {},
     "output_type": "execute_result"
    },
    {
     "data": {
      "image/png": "[encoded data removed]",
      "text/plain": [
       "<Figure size 432x288 with 1 Axes>"
      ]
     },
     "metadata": {
      "needs_background": "light"
     },
     "output_type": "display_data"
    },
    {
     "data": {
      "image/png": "[encoded data removed]",
      "text/plain": [
       "<Figure size 432x288 with 1 Axes>"
      ]
     },
     "metadata": {
      "needs_background": "light"
     },
     "output_type": "display_data"
    },
    {
     "data": {
      "image/png": "[encoded data removed]",
      "text/plain": [
       "<Figure size 432x288 with 1 Axes>"
      ]
     },
     "metadata": {
      "needs_background": "light"
     },
     "output_type": "display_data"
    }
   ],
   "source": [
    "billing_table.plot(kind='line', x='booking_month', y='gross_bill')\n",
    "billing_table.plot(kind='line', x='booking_month', y='net_revenue')\n",
    "billing_table.plot(kind='line', x='booking_month', y='take_rate')\n",
    "\n",
    "billing_table"
   ]
  },
  {
   "cell_type": "markdown",
   "metadata": {},
   "source": [
    "### The table and plots show the gross billings, net revenue, and take rate for each month starting in August 2016 through August 2018. All three values have been steadily increasing over time."
   ]
  },
  {
   "cell_type": "markdown",
   "metadata": {},
   "source": [
    "### In order to determine why these values have been increasing, we can look at the component parts that make up these values. Take rate is a function of net revenue and gross billings, and those are in turn made up of the booking total, owner fees, and service fees."
   ]
  },
  {
   "cell_type": "code",
   "execution_count": 66,
   "metadata": {
    "collapsed": false
   },
   "outputs": [
    {
     "data": {
      "text/plain": [
       "<matplotlib.axes._subplots.AxesSubplot at 0x2202d172d08>"
      ]
     },
     "execution_count": 66,
     "metadata": {},
     "output_type": "execute_result"
    },
    {
     "data": {
      "image/png": "[encoded data removed]",
      "text/plain": [
       "<Figure size 432x288 with 1 Axes>"
      ]
     },
     "metadata": {
      "needs_background": "light"
     },
     "output_type": "display_data"
    },
    {
     "data": {
      "image/png": "[encoded data removed]",
      "text/plain": [
       "<Figure size 432x288 with 1 Axes>"
      ]
     },
     "metadata": {
      "needs_background": "light"
     },
     "output_type": "display_data"
    }
   ],
   "source": [
    "# group booking_total by month\n",
    "booking_table = billings_df.groupby(['booking_month'])['booking_total'].agg(['sum','mean','count']).reset_index()\n",
    "booking_table.plot(kind='line', x='booking_month', y='mean')\n",
    "booking_table.plot(kind='line', x='booking_month', y='count')"
   ]
  },
  {
   "cell_type": "markdown",
   "metadata": {},
   "source": [
    "### Booking totals are closely related to gross bill totals, so it makes sense that they are trending upwards together. A closer examination indicates that booking totals are increasing due to higher volume of customers, not increased spending on each booking. The first graph shows a fluctuating average booking total, but typically it's in a fairly narrow range between 170 and 200 per booking. The second graph shows the number of individual bookings made each month, which seems to be the primary cause of increased monthly booking totals and gross billing totals. This second graph is very similar to the gross bills and net revenue graphs above."
   ]
  },
  {
   "cell_type": "code",
   "execution_count": 67,
   "metadata": {
    "collapsed": false
   },
   "outputs": [
    {
     "data": {
      "text/plain": [
       "<matplotlib.axes._subplots.AxesSubplot at 0x22030d65908>"
      ]
     },
     "execution_count": 67,
     "metadata": {},
     "output_type": "execute_result"
    },
    {
     "data": {
      "image/png": "[encoded data removed]",
      "text/plain": [
       "<Figure size 432x288 with 1 Axes>"
      ]
     },
     "metadata": {
      "needs_background": "light"
     },
     "output_type": "display_data"
    },
    {
     "data": {
      "image/png": "[encoded data removed]",
      "text/plain": [
       "<Figure size 432x288 with 1 Axes>"
      ]
     },
     "metadata": {
      "needs_background": "light"
     },
     "output_type": "display_data"
    }
   ],
   "source": [
    "# group fees by month\n",
    "fees_table = billings_df.groupby(['booking_month'])[['owner_fee', 'service_fee']].mean().reset_index()\n",
    "fees_table.plot(kind='line', x='booking_month', y='owner_fee')\n",
    "fees_table.plot(kind='line', x='booking_month', y='service_fee')"
   ]
  },
  {
   "cell_type": "markdown",
   "metadata": {},
   "source": [
    "### However, increased booking totals does not explain the increase in take rate. Gross bills and net revenue could be steadily increasing because of an increase in customers, but if that's the only variable that changes, then we would expect the take rate to be the same each month. The two graphs above show that the average owner fees and service fees have also been increasing over time. Both experienced big jumps that allowed the company to charge higher fees and thus take in a larger share of the average gross bill totals. As long as these two fee percentages continue to increase, I would expect that the take rate will also keep increasing, allowing the company to be more profitable. "
   ]
  },
  {
   "cell_type": "markdown",
   "metadata": {
    "collapsed": true
   },
   "source": [
    "## VI. Search Engine Marketing "
   ]
  },
  {
   "cell_type": "code",
   "execution_count": 56,
   "metadata": {
    "collapsed": false
   },
   "outputs": [
    {
     "data": {
      "text/html": [
       "<div>\n",
       "<style scoped>\n",
       "    .dataframe tbody tr th:only-of-type {\n",
       "        vertical-align: middle;\n",
       "    }\n",
       "\n",
       "    .dataframe tbody tr th {\n",
       "        vertical-align: top;\n",
       "    }\n",
       "\n",
       "    .dataframe thead th {\n",
       "        text-align: right;\n",
       "    }\n",
       "</style>\n",
       "<table border=\"1\" class=\"dataframe\">\n",
       "  <thead>\n",
       "    <tr style=\"text-align: right;\">\n",
       "      <th></th>\n",
       "      <th>index</th>\n",
       "      <th>date_joined</th>\n",
       "    </tr>\n",
       "  </thead>\n",
       "  <tbody>\n",
       "    <tr>\n",
       "      <td>0</td>\n",
       "      <td>2016-08-08</td>\n",
       "      <td>1</td>\n",
       "    </tr>\n",
       "    <tr>\n",
       "      <td>1</td>\n",
       "      <td>2016-08-09</td>\n",
       "      <td>1</td>\n",
       "    </tr>\n",
       "    <tr>\n",
       "      <td>2</td>\n",
       "      <td>2016-08-10</td>\n",
       "      <td>1</td>\n",
       "    </tr>\n",
       "    <tr>\n",
       "      <td>3</td>\n",
       "      <td>2016-08-11</td>\n",
       "      <td>1</td>\n",
       "    </tr>\n",
       "    <tr>\n",
       "      <td>4</td>\n",
       "      <td>2016-08-12</td>\n",
       "      <td>1</td>\n",
       "    </tr>\n",
       "    <tr>\n",
       "      <td>...</td>\n",
       "      <td>...</td>\n",
       "      <td>...</td>\n",
       "    </tr>\n",
       "    <tr>\n",
       "      <td>700</td>\n",
       "      <td>2018-07-28</td>\n",
       "      <td>73</td>\n",
       "    </tr>\n",
       "    <tr>\n",
       "      <td>701</td>\n",
       "      <td>2018-07-29</td>\n",
       "      <td>65</td>\n",
       "    </tr>\n",
       "    <tr>\n",
       "      <td>702</td>\n",
       "      <td>2018-07-30</td>\n",
       "      <td>86</td>\n",
       "    </tr>\n",
       "    <tr>\n",
       "      <td>703</td>\n",
       "      <td>2018-07-31</td>\n",
       "      <td>87</td>\n",
       "    </tr>\n",
       "    <tr>\n",
       "      <td>704</td>\n",
       "      <td>2018-08-01</td>\n",
       "      <td>83</td>\n",
       "    </tr>\n",
       "  </tbody>\n",
       "</table>\n",
       "<p>705 rows × 2 columns</p>\n",
       "</div>"
      ],
      "text/plain": [
       "          index  date_joined\n",
       "0    2016-08-08            1\n",
       "1    2016-08-09            1\n",
       "2    2016-08-10            1\n",
       "3    2016-08-11            1\n",
       "4    2016-08-12            1\n",
       "..          ...          ...\n",
       "700  2018-07-28           73\n",
       "701  2018-07-29           65\n",
       "702  2018-07-30           86\n",
       "703  2018-07-31           87\n",
       "704  2018-08-01           83\n",
       "\n",
       "[705 rows x 2 columns]"
      ]
     },
     "execution_count": 56,
     "metadata": {},
     "output_type": "execute_result"
    },
    {
     "data": {
      "image/png": "[encoded data removed]",
      "text/plain": [
       "<Figure size 432x288 with 1 Axes>"
      ]
     },
     "metadata": {
      "needs_background": "light"
     },
     "output_type": "display_data"
    }
   ],
   "source": [
    "# create people df\n",
    "people_df = create_df('''select strftime(\"%Y-%m-%d\", date_joined) as date_joined from people_person\n",
    "                         where channel = \"Google\"''')\n",
    "\n",
    "# create signup table\n",
    "signup_table = people_df['date_joined'].value_counts().reset_index().sort_values(by=['index']).reset_index(drop=True)\n",
    "\n",
    "signup_table.plot(kind='line', x='index', y='date_joined')\n",
    "plt.xticks(rotation=90)\n",
    "\n",
    "signup_table"
   ]
  },
  {
   "cell_type": "code",
   "execution_count": 55,
   "metadata": {
    "collapsed": false
   },
   "outputs": [
    {
     "data": {
      "text/plain": [
       "(array([  0.,  25.,  50.,  75., 100., 125., 150., 175., 200., 225.]),\n",
       " <a list of 10 Text xticklabel objects>)"
      ]
     },
     "execution_count": 55,
     "metadata": {},
     "output_type": "execute_result"
    },
    {
     "data": {
      "image/png": "[encoded data removed]",
      "text/plain": [
       "<Figure size 432x288 with 1 Axes>"
      ]
     },
     "metadata": {
      "needs_background": "light"
     },
     "output_type": "display_data"
    }
   ],
   "source": [
    "# plot smaller window to see inflection point\n",
    "small_table = signup_table[signup_table['index'] > '2018-01-01']\n",
    "small_table.plot(kind='line', x='index', y='date_joined')\n",
    "plt.xticks(rotation=90)"
   ]
  },
  {
   "cell_type": "markdown",
   "metadata": {},
   "source": [
    "### The table and graphs above show daily signups from Google for the company. Signups have been trending up since the beginning, but the bottom graph clearly shows an increase in daily signups around early May."
   ]
  },
  {
   "cell_type": "code",
   "execution_count": 77,
   "metadata": {
    "collapsed": false
   },
   "outputs": [
    {
     "name": "stdout",
     "output_type": "stream",
     "text": [
      "4604\n",
      "45.0\n"
     ]
    }
   ],
   "source": [
    "# look at signups since May 4th\n",
    "recent_table = signup_table[signup_table['index'] >= '2018-05-04']\n",
    "\n",
    "# total users joined since increased advertising\n",
    "total_user_growth = recent_table['date_joined'].sum()\n",
    "print(total_user_growth)\n",
    "\n",
    "# average cost per user since increased advertising\n",
    "total_spend = 207180\n",
    "avg_user_cost = total_spend/total_user_growth\n",
    "print(avg_user_cost)"
   ]
  },
  {
   "cell_type": "markdown",
   "metadata": {},
   "source": [
    "### The summary statistics above show that 4604 users have signed up since the increase in adversiting on May 4th. The average spend per user acquisition is 45 dollars. "
   ]
  },
  {
   "cell_type": "code",
   "execution_count": 78,
   "metadata": {
    "collapsed": false
   },
   "outputs": [
    {
     "name": "stdout",
     "output_type": "stream",
     "text": [
      "2503.9024390243903\n",
      "75117.07317073172\n"
     ]
    }
   ],
   "source": [
    "# determining average user growth before switching ad strategies\n",
    "pre_switch_table = signup_table[(signup_table['index'] >= '2018-01-01') & (signup_table['index'] < '2018-05-04')]\n",
    "\n",
    "pre_switch_growth = pre_switch_table['date_joined'].sum()/len(pre_switch_table)\n",
    "\n",
    "# multiply by number of days since switch to get expected users with old strategy\n",
    "alternate_user_growth = pre_switch_growth * len(recent_table)\n",
    "print(alternate_user_growth)\n",
    "\n",
    "# multiply by $30 per user to estimate total spend with old strategy\n",
    "avg_spend = 30\n",
    "alternate_total_spend = alternate_user_growth * avg_spend\n",
    "print(alternate_total_spend)"
   ]
  },
  {
   "cell_type": "markdown",
   "metadata": {},
   "source": [
    "### The calculations above show that under the old strategy, we would have expected to see about 2500 new users at an estimated cost of about 75 thousand dollars (compared to 4604 users at a cost of 207 thousand dollars)."
   ]
  },
  {
   "cell_type": "code",
   "execution_count": 80,
   "metadata": {
    "collapsed": false
   },
   "outputs": [
    {
     "name": "stdout",
     "output_type": "stream",
     "text": [
      "2100.0\n",
      "62.88710801393728\n"
     ]
    }
   ],
   "source": [
    "# calculate additional users and their marginal cost\n",
    "additional_users = total_user_growth - round(alternate_user_growth, 0)\n",
    "print(additional_users)\n",
    "\n",
    "marginal_cost = (total_spend - alternate_total_spend)/additional_users\n",
    "print(marginal_cost)"
   ]
  },
  {
   "cell_type": "markdown",
   "metadata": {},
   "source": [
    "### The new advertising strategy brought in an estimated 2100 additional users, but the marginal cost for each of those additional users was nearly 63 dollars. "
   ]
  },
  {
   "cell_type": "code",
   "execution_count": 83,
   "metadata": {
    "collapsed": true
   },
   "outputs": [],
   "source": [
    "conn.close()"
   ]
  },
  {
   "cell_type": "code",
   "execution_count": null,
   "metadata": {
    "collapsed": true
   },
   "outputs": [],
   "source": []
  }
 ],
 "metadata": {
  "kernelspec": {
   "display_name": "Python 3",
   "language": "python",
   "name": "python3"
  },
  "language_info": {
   "codemirror_mode": {
    "name": "ipython",
    "version": 3
   },
   "file_extension": ".py",
   "mimetype": "text/x-python",
   "name": "python",
   "nbconvert_exporter": "python",
   "pygments_lexer": "ipython3",
   "version": "3.7.4"
  }
 },
 "nbformat": 4,
 "nbformat_minor": 0
}
